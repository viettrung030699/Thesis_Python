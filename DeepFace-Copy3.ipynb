{
 "cells": [
  {
   "cell_type": "code",
   "execution_count": 1,
   "id": "imposed-press",
   "metadata": {
    "pycharm": {
     "name": "#%%\n"
    }
   },
   "outputs": [
    {
     "ename": "SyntaxError",
     "evalue": "invalid syntax (<ipython-input-1-b943716737cd>, line 1)",
     "output_type": "error",
     "traceback": [
      "\u001b[1;36m  File \u001b[1;32m\"<ipython-input-1-b943716737cd>\"\u001b[1;36m, line \u001b[1;32m1\u001b[0m\n\u001b[1;33m    pip install deepface\u001b[0m\n\u001b[1;37m        ^\u001b[0m\n\u001b[1;31mSyntaxError\u001b[0m\u001b[1;31m:\u001b[0m invalid syntax\n"
     ]
    }
   ],
   "source": [
    "pip install deepface"
   ]
  },
  {
   "cell_type": "code",
   "execution_count": 1,
   "id": "federal-surrey",
   "metadata": {
    "pycharm": {
     "name": "#%%\n"
    }
   },
   "outputs": [],
   "source": [
    "import pandas as pd\n",
    "import numpy as np\n",
    "import itertools\n",
    "from sklearn.metrics import confusion_matrix,accuracy_score, roc_curve, auc\n",
    "import matplotlib.pyplot as plt\n",
    "from tqdm import tqdm\n",
    "tqdm.pandas()"
   ]
  },
  {
   "cell_type": "code",
   "execution_count": 2,
   "id": "responsible-nowhere",
   "metadata": {
    "pycharm": {
     "name": "#%%\n"
    }
   },
   "outputs": [],
   "source": [
    "idendities = {\n",
    "  \"Ariel_Sharon\": [],\n",
    "  \"Colin_Powell\": [],\n",
    "  \"Donald_Rumsfeld\": [],\n",
    "  \"George_W_Bush\": [],\n",
    "  \"Gerhard_Schroeder\": [],\n",
    "  \"Hugo_Chavez\": [],\n",
    "  \"Jean_Chretien\": [],\n",
    "  \"John_Ashcroft\": [],\n",
    "  \"Junichiro_Koizumi\": [],\n",
    "  \"Tony_Blair\": []\n",
    "    \n",
    "}"
   ]
  },
  {
   "cell_type": "code",
   "execution_count": 3,
   "id": "collaborative-birthday",
   "metadata": {
    "pycharm": {
     "name": "#%%\n"
    }
   },
   "outputs": [],
   "source": [
    "import os\n",
    "from PIL import Image\n",
    "\n",
    "for key, values in idendities.items():\n",
    "    # Get the path to all the images\n",
    "        for image in os.listdir(\"Dataset/DeepFace/{}\".format(key)):\n",
    "            path_string = os.path.join(\"Dataset/DeepFace/{}\".format(key), image)\n",
    "            image = Image.open(path_string)\n",
    "            imgNp = np.array(image, \"uint8\")\n",
    "            values.append(path_string)\n"
   ]
  },
  {
   "cell_type": "code",
   "execution_count": 4,
   "id": "physical-columbia",
   "metadata": {
    "pycharm": {
     "name": "#%%\n"
    }
   },
   "outputs": [
    {
     "data": {
      "text/plain": [
       "['Dataset/DeepFace/George_W_Bush\\\\George_W_Bush_0001.jpg',\n",
       " 'Dataset/DeepFace/George_W_Bush\\\\George_W_Bush_0002.jpg',\n",
       " 'Dataset/DeepFace/George_W_Bush\\\\George_W_Bush_0003.jpg',\n",
       " 'Dataset/DeepFace/George_W_Bush\\\\George_W_Bush_0004.jpg',\n",
       " 'Dataset/DeepFace/George_W_Bush\\\\George_W_Bush_0005.jpg',\n",
       " 'Dataset/DeepFace/George_W_Bush\\\\George_W_Bush_0006.jpg',\n",
       " 'Dataset/DeepFace/George_W_Bush\\\\George_W_Bush_0007.jpg',\n",
       " 'Dataset/DeepFace/George_W_Bush\\\\George_W_Bush_0008.jpg',\n",
       " 'Dataset/DeepFace/George_W_Bush\\\\George_W_Bush_0009.jpg',\n",
       " 'Dataset/DeepFace/George_W_Bush\\\\George_W_Bush_0010.jpg',\n",
       " 'Dataset/DeepFace/George_W_Bush\\\\George_W_Bush_0011.jpg',\n",
       " 'Dataset/DeepFace/George_W_Bush\\\\George_W_Bush_0012.jpg']"
      ]
     },
     "execution_count": 4,
     "metadata": {},
     "output_type": "execute_result"
    }
   ],
   "source": [
    "idendities[\"George_W_Bush\"]"
   ]
  },
  {
   "cell_type": "markdown",
   "id": "treated-webmaster",
   "metadata": {},
   "source": [
    "<h1>Positive samples<h1>\n",
    "Find different photos of same people\n"
   ]
  },
  {
   "cell_type": "code",
   "execution_count": null,
   "id": "cordless-electricity",
   "metadata": {
    "pycharm": {
     "name": "#%%\n"
    }
   },
   "outputs": [],
   "source": [
    "positives = []\n",
    "\n",
    "for key, values in idendities.items():\n",
    "    \n",
    "    #print(key)\n",
    "    for i in range(0, len(values)-1):\n",
    "        for j in range(i+1, len(values)):\n",
    "            #print(values[i], \" and \", values[j])\n",
    "            positive = []\n",
    "            positive.append(values[i])\n",
    "            positive.append(values[j])\n",
    "            positives.append(positive)"
   ]
  },
  {
   "cell_type": "code",
   "execution_count": null,
   "id": "electoral-affect",
   "metadata": {
    "pycharm": {
     "name": "#%%\n"
    }
   },
   "outputs": [],
   "source": [
    "positives = pd.DataFrame(positives, columns = [\"file_x\", \"file_y\"])\n",
    "positives[\"decision\"] = \"Yes\""
   ]
  },
  {
   "cell_type": "code",
   "execution_count": null,
   "id": "adopted-criterion",
   "metadata": {
    "pycharm": {
     "name": "#%%\n"
    }
   },
   "outputs": [],
   "source": [
    "positives.shape\n"
   ]
  },
  {
   "cell_type": "markdown",
   "id": "approximate-coral",
   "metadata": {},
   "source": [
    "# Negative samples\n",
    "Compare photos of different people"
   ]
  },
  {
   "cell_type": "code",
   "execution_count": null,
   "id": "local-engagement",
   "metadata": {
    "pycharm": {
     "name": "#%%\n"
    }
   },
   "outputs": [],
   "source": [
    "samples_list = list(idendities.values())\n"
   ]
  },
  {
   "cell_type": "code",
   "execution_count": null,
   "id": "international-bracelet",
   "metadata": {
    "pycharm": {
     "name": "#%%\n"
    }
   },
   "outputs": [],
   "source": [
    "negatives = []\n",
    "\n",
    "for i in range(0, len(idendities) - 1):\n",
    "    for j in range(i+1, len(idendities)):\n",
    "        #print(samples_list[i], \" vs \",samples_list[j]) \n",
    "        cross_product = itertools.product(samples_list[i], samples_list[j])\n",
    "        cross_product = list(cross_product)\n",
    "        #print(cross_product)\n",
    "        \n",
    "        for cross_sample in cross_product:\n",
    "            #print(cross_sample[0], \" vs \", cross_sample[1])\n",
    "            negative = []\n",
    "            negative.append(cross_sample[0])\n",
    "            negative.append(cross_sample[1])\n",
    "            negatives.append(negative)"
   ]
  },
  {
   "cell_type": "code",
   "execution_count": null,
   "id": "collaborative-fitting",
   "metadata": {
    "pycharm": {
     "name": "#%%\n"
    }
   },
   "outputs": [],
   "source": [
    "negatives = pd.DataFrame(negatives, columns = [\"file_x\", \"file_y\"])\n",
    "negatives[\"decision\"] = \"No\""
   ]
  },
  {
   "cell_type": "code",
   "execution_count": null,
   "id": "average-allowance",
   "metadata": {
    "pycharm": {
     "name": "#%%\n"
    }
   },
   "outputs": [],
   "source": [
    "negatives = negatives.sample(positives.shape[0])\n"
   ]
  },
  {
   "cell_type": "code",
   "execution_count": null,
   "id": "detailed-beverage",
   "metadata": {
    "pycharm": {
     "name": "#%%\n"
    }
   },
   "outputs": [],
   "source": [
    "negatives.shape\n"
   ]
  },
  {
   "cell_type": "markdown",
   "id": "adapted-aspect",
   "metadata": {},
   "source": [
    "# Merge Positives and Negative Samples¶\n"
   ]
  },
  {
   "cell_type": "code",
   "execution_count": null,
   "id": "internal-pride",
   "metadata": {
    "pycharm": {
     "name": "#%%\n"
    }
   },
   "outputs": [],
   "source": [
    "df = pd.concat([positives, negatives]).reset_index(drop = True)\n"
   ]
  },
  {
   "cell_type": "code",
   "execution_count": null,
   "id": "arranged-pennsylvania",
   "metadata": {
    "pycharm": {
     "name": "#%%\n"
    }
   },
   "outputs": [],
   "source": [
    "df.shape\n"
   ]
  },
  {
   "cell_type": "code",
   "execution_count": null,
   "id": "drawn-closer",
   "metadata": {
    "pycharm": {
     "name": "#%%\n"
    }
   },
   "outputs": [],
   "source": [
    "df.decision.value_counts()\n"
   ]
  },
  {
   "cell_type": "code",
   "execution_count": null,
   "id": "bearing-spotlight",
   "metadata": {
    "pycharm": {
     "name": "#%%\n"
    }
   },
   "outputs": [],
   "source": [
    "df = pd.concat([positives, negatives]).reset_index(drop = True)"
   ]
  },
  {
   "cell_type": "code",
   "execution_count": null,
   "id": "front-intellectual",
   "metadata": {
    "pycharm": {
     "name": "#%%\n"
    }
   },
   "outputs": [],
   "source": [
    "df.decision"
   ]
  },
  {
   "cell_type": "markdown",
   "id": "rational-exhaust",
   "metadata": {},
   "source": [
    "# DeepFace"
   ]
  },
  {
   "cell_type": "code",
   "execution_count": null,
   "id": "international-hypothetical",
   "metadata": {
    "pycharm": {
     "name": "#%%\n"
    }
   },
   "outputs": [],
   "source": [
    "from deepface import DeepFace\n",
    "from deepface.basemodels import VGGFace, OpenFace, Facenet, FbDeepFace"
   ]
  },
  {
   "cell_type": "code",
   "execution_count": null,
   "id": "dutch-fetish",
   "metadata": {
    "pycharm": {
     "name": "#%%\n"
    }
   },
   "outputs": [],
   "source": [
    "pretrained_models = {}\n",
    "\n",
    "pretrained_models[\"VGG-Face\"] = VGGFace.loadModel()\n",
    "print(\"VGG-Face loaded\")\n",
    "\n",
    "pretrained_models[\"Facenet\"] = Facenet.loadModel()\n",
    "print(\"Facenet loaded\")\n",
    "\n",
    "# pretrained_models[\"OpenFace\"] = OpenFace.loadModel() \n",
    "# print(\"OpenFace loaded\")\n",
    "\n",
    "pretrained_models[\"DeepFace\"] = FbDeepFace.loadModel()\n",
    "print(\"FbDeepFace loaded\")"
   ]
  },
  {
   "cell_type": "code",
   "execution_count": null,
   "id": "direct-israel",
   "metadata": {
    "pycharm": {
     "name": "#%%\n"
    }
   },
   "outputs": [],
   "source": [
    "instances = df[[\"file_x\", \"file_y\"]].values.tolist()\n"
   ]
  },
  {
   "cell_type": "code",
   "execution_count": 9,
   "id": "usual-nirvana",
   "metadata": {
    "pycharm": {
     "name": "#%%\n"
    }
   },
   "outputs": [],
   "source": [
    "models = ['VGG-Face', 'Facenet', 'DeepFace']\n",
    "metrics = ['cosine', 'euclidean', 'euclidean_l2']"
   ]
  },
  {
   "cell_type": "code",
   "execution_count": null,
   "id": "scheduled-tucson",
   "metadata": {
    "pycharm": {
     "name": "#%%\n"
    }
   },
   "outputs": [],
   "source": [
    "if True:\n",
    "    for model in models:\n",
    "        for metric in metrics:\n",
    "            \n",
    "            print(\"Processing \",model,\" \",metric)\n",
    "            \n",
    "            if model == 'OpenFace' and metric == 'euclidean': #this returns same with openface euclidean l2\n",
    "                continue\n",
    "            else:\n",
    "                resp_obj = DeepFace.verify(instances\n",
    "                                           , model_name = model\n",
    "                                           , model = pretrained_models[model]\n",
    "                                           , distance_metric = metric\n",
    "                                           , detector_backend = 'mtcnn'\n",
    "                                           , enforce_detection = False)\n",
    "\n",
    "                distances = []\n",
    "\n",
    "                for i in range(0, len(instances)):\n",
    "                    distance = round(resp_obj[\"pair_%s\" % (i+1)][\"distance\"], 4)\n",
    "                    distances.append(distance)\n",
    "\n",
    "                df['%s_%s' % (model, metric)] = distances\n",
    "    \n",
    "    df.to_csv(\"face-recognition-pivot.csv\", index = False)\n",
    "else:\n",
    "    #Ref: https://github.com/serengil/deepface/blob/master/tests/dataset/face-recognition-pivot.csv\n",
    "    df = pd.read_csv(\"face-recognition-pivot.csv\")"
   ]
  },
  {
   "cell_type": "code",
   "execution_count": null,
   "id": "wooden-effectiveness",
   "metadata": {
    "pycharm": {
     "name": "#%%\n"
    }
   },
   "outputs": [],
   "source": [
    "df_raw = df.copy()\n"
   ]
  },
  {
   "cell_type": "code",
   "execution_count": null,
   "id": "nutritional-blair",
   "metadata": {
    "pycharm": {
     "name": "#%%\n"
    }
   },
   "outputs": [],
   "source": [
    "df.head()\n"
   ]
  },
  {
   "cell_type": "markdown",
   "id": "noble-psychiatry",
   "metadata": {},
   "source": [
    "# Distribution"
   ]
  },
  {
   "cell_type": "code",
   "execution_count": 5,
   "id": "right-testament",
   "metadata": {
    "pycharm": {
     "name": "#%%\n"
    }
   },
   "outputs": [],
   "source": [
    "df = pd.read_csv(\"face-recognition-pivot.csv\")"
   ]
  },
  {
   "cell_type": "code",
   "execution_count": 6,
   "id": "finished-academy",
   "metadata": {
    "pycharm": {
     "name": "#%%\n"
    }
   },
   "outputs": [],
   "source": [
    "df_raw = df.copy()\n"
   ]
  },
  {
   "cell_type": "code",
   "execution_count": 7,
   "id": "constant-hollow",
   "metadata": {
    "pycharm": {
     "name": "#%%\n"
    }
   },
   "outputs": [
    {
     "data": {
      "text/html": [
       "<div>\n",
       "<style scoped>\n",
       "    .dataframe tbody tr th:only-of-type {\n",
       "        vertical-align: middle;\n",
       "    }\n",
       "\n",
       "    .dataframe tbody tr th {\n",
       "        vertical-align: top;\n",
       "    }\n",
       "\n",
       "    .dataframe thead th {\n",
       "        text-align: right;\n",
       "    }\n",
       "</style>\n",
       "<table border=\"1\" class=\"dataframe\">\n",
       "  <thead>\n",
       "    <tr style=\"text-align: right;\">\n",
       "      <th></th>\n",
       "      <th>file_x</th>\n",
       "      <th>file_y</th>\n",
       "      <th>decision</th>\n",
       "      <th>VGG-Face_cosine</th>\n",
       "      <th>VGG-Face_euclidean</th>\n",
       "      <th>VGG-Face_euclidean_l2</th>\n",
       "      <th>Facenet_cosine</th>\n",
       "      <th>Facenet_euclidean</th>\n",
       "      <th>Facenet_euclidean_l2</th>\n",
       "      <th>DeepFace_cosine</th>\n",
       "      <th>DeepFace_euclidean</th>\n",
       "      <th>DeepFace_euclidean_l2</th>\n",
       "    </tr>\n",
       "  </thead>\n",
       "  <tbody>\n",
       "    <tr>\n",
       "      <th>0</th>\n",
       "      <td>[[[0 1 0]\\n  [0 1 0]\\n  [0 1 0]\\n  ...\\n  [0 1...</td>\n",
       "      <td>[[[ 0  0  0]\\n  [ 0  0  0]\\n  [ 0  0  0]\\n  .....</td>\n",
       "      <td>Yes</td>\n",
       "      <td>0.1076</td>\n",
       "      <td>0.2939</td>\n",
       "      <td>0.4640</td>\n",
       "      <td>0.1564</td>\n",
       "      <td>6.8556</td>\n",
       "      <td>0.5592</td>\n",
       "      <td>0.2951</td>\n",
       "      <td>65.6765</td>\n",
       "      <td>0.7682</td>\n",
       "    </tr>\n",
       "    <tr>\n",
       "      <th>1</th>\n",
       "      <td>[[[0 1 0]\\n  [0 1 0]\\n  [0 1 0]\\n  ...\\n  [0 1...</td>\n",
       "      <td>[[[112 108  63]\\n  [111 106  64]\\n  [109 106  ...</td>\n",
       "      <td>Yes</td>\n",
       "      <td>0.1314</td>\n",
       "      <td>0.3245</td>\n",
       "      <td>0.5126</td>\n",
       "      <td>0.2157</td>\n",
       "      <td>8.2025</td>\n",
       "      <td>0.6568</td>\n",
       "      <td>0.3808</td>\n",
       "      <td>73.9771</td>\n",
       "      <td>0.8727</td>\n",
       "    </tr>\n",
       "    <tr>\n",
       "      <th>2</th>\n",
       "      <td>[[[0 1 0]\\n  [0 1 0]\\n  [0 1 0]\\n  ...\\n  [0 1...</td>\n",
       "      <td>[[[0 0 0]\\n  [0 0 0]\\n  [0 0 0]\\n  ...\\n  [0 0...</td>\n",
       "      <td>Yes</td>\n",
       "      <td>0.1031</td>\n",
       "      <td>0.4133</td>\n",
       "      <td>0.4540</td>\n",
       "      <td>0.2728</td>\n",
       "      <td>9.2224</td>\n",
       "      <td>0.7386</td>\n",
       "      <td>0.2637</td>\n",
       "      <td>69.5387</td>\n",
       "      <td>0.7263</td>\n",
       "    </tr>\n",
       "    <tr>\n",
       "      <th>3</th>\n",
       "      <td>[[[0 1 0]\\n  [0 1 0]\\n  [0 1 0]\\n  ...\\n  [0 1...</td>\n",
       "      <td>[[[197 199 185]\\n  [197 199 185]\\n  [198 200 1...</td>\n",
       "      <td>Yes</td>\n",
       "      <td>0.1132</td>\n",
       "      <td>0.3065</td>\n",
       "      <td>0.4759</td>\n",
       "      <td>0.1301</td>\n",
       "      <td>6.2278</td>\n",
       "      <td>0.5102</td>\n",
       "      <td>0.3276</td>\n",
       "      <td>72.6463</td>\n",
       "      <td>0.8095</td>\n",
       "    </tr>\n",
       "    <tr>\n",
       "      <th>4</th>\n",
       "      <td>[[[0 1 0]\\n  [0 1 0]\\n  [0 1 0]\\n  ...\\n  [0 1...</td>\n",
       "      <td>[[[0 0 0]\\n  [0 0 0]\\n  [0 0 0]\\n  ...\\n  [0 0...</td>\n",
       "      <td>Yes</td>\n",
       "      <td>0.1099</td>\n",
       "      <td>0.3396</td>\n",
       "      <td>0.4689</td>\n",
       "      <td>0.2024</td>\n",
       "      <td>7.9683</td>\n",
       "      <td>0.6362</td>\n",
       "      <td>0.2524</td>\n",
       "      <td>62.0719</td>\n",
       "      <td>0.7105</td>\n",
       "    </tr>\n",
       "  </tbody>\n",
       "</table>\n",
       "</div>"
      ],
      "text/plain": [
       "                                              file_x  \\\n",
       "0  [[[0 1 0]\\n  [0 1 0]\\n  [0 1 0]\\n  ...\\n  [0 1...   \n",
       "1  [[[0 1 0]\\n  [0 1 0]\\n  [0 1 0]\\n  ...\\n  [0 1...   \n",
       "2  [[[0 1 0]\\n  [0 1 0]\\n  [0 1 0]\\n  ...\\n  [0 1...   \n",
       "3  [[[0 1 0]\\n  [0 1 0]\\n  [0 1 0]\\n  ...\\n  [0 1...   \n",
       "4  [[[0 1 0]\\n  [0 1 0]\\n  [0 1 0]\\n  ...\\n  [0 1...   \n",
       "\n",
       "                                              file_y decision  \\\n",
       "0  [[[ 0  0  0]\\n  [ 0  0  0]\\n  [ 0  0  0]\\n  .....      Yes   \n",
       "1  [[[112 108  63]\\n  [111 106  64]\\n  [109 106  ...      Yes   \n",
       "2  [[[0 0 0]\\n  [0 0 0]\\n  [0 0 0]\\n  ...\\n  [0 0...      Yes   \n",
       "3  [[[197 199 185]\\n  [197 199 185]\\n  [198 200 1...      Yes   \n",
       "4  [[[0 0 0]\\n  [0 0 0]\\n  [0 0 0]\\n  ...\\n  [0 0...      Yes   \n",
       "\n",
       "   VGG-Face_cosine  VGG-Face_euclidean  VGG-Face_euclidean_l2  Facenet_cosine  \\\n",
       "0           0.1076              0.2939                 0.4640          0.1564   \n",
       "1           0.1314              0.3245                 0.5126          0.2157   \n",
       "2           0.1031              0.4133                 0.4540          0.2728   \n",
       "3           0.1132              0.3065                 0.4759          0.1301   \n",
       "4           0.1099              0.3396                 0.4689          0.2024   \n",
       "\n",
       "   Facenet_euclidean  Facenet_euclidean_l2  DeepFace_cosine  \\\n",
       "0             6.8556                0.5592           0.2951   \n",
       "1             8.2025                0.6568           0.3808   \n",
       "2             9.2224                0.7386           0.2637   \n",
       "3             6.2278                0.5102           0.3276   \n",
       "4             7.9683                0.6362           0.2524   \n",
       "\n",
       "   DeepFace_euclidean  DeepFace_euclidean_l2  \n",
       "0             65.6765                 0.7682  \n",
       "1             73.9771                 0.8727  \n",
       "2             69.5387                 0.7263  \n",
       "3             72.6463                 0.8095  \n",
       "4             62.0719                 0.7105  "
      ]
     },
     "execution_count": 7,
     "metadata": {},
     "output_type": "execute_result"
    }
   ],
   "source": [
    "df.head()"
   ]
  },
  {
   "cell_type": "code",
   "execution_count": 10,
   "id": "realistic-worst",
   "metadata": {
    "pycharm": {
     "name": "#%%\n"
    }
   },
   "outputs": [
    {
     "data": {
      "image/png": "[encoded data removed]",
      "text/plain": [
       "<Figure size 1080x1080 with 9 Axes>"
      ]
     },
     "metadata": {
      "needs_background": "light"
     },
     "output_type": "display_data"
    }
   ],
   "source": [
    "\n",
    "\n",
    "fig = plt.figure(figsize=(15, 15))\n",
    "\n",
    "figure_idx = 1\n",
    "for model in models:\n",
    "    for metric in metrics:\n",
    "        \n",
    "        \n",
    "        feature = '%s_%s' % (model, metric)\n",
    "\n",
    "        ax1 = fig.add_subplot(4, 3, figure_idx)\n",
    "        \n",
    "        df[df.decision == \"Yes\"][feature].plot(kind='kde', title = feature, label = 'Yes', legend = True)\n",
    "        df[df.decision == \"No\"][feature].plot(kind='kde', title = feature, label = 'No', legend = True)\n",
    "        \n",
    "        figure_idx = figure_idx + 1\n",
    "\n",
    "plt.show()"
   ]
  },
  {
   "cell_type": "markdown",
   "id": "minor-publication",
   "metadata": {},
   "source": [
    "# Pre-processing for model"
   ]
  },
  {
   "cell_type": "code",
   "execution_count": 11,
   "id": "hybrid-digest",
   "metadata": {
    "pycharm": {
     "name": "#%%\n"
    }
   },
   "outputs": [],
   "source": [
    "columns = []\n",
    "for model in models:\n",
    "    for metric in metrics:\n",
    "        if model == 'OpenFace' and metric == 'euclidean':\n",
    "            continue\n",
    "        else:\n",
    "            feature = '%s_%s' % (model, metric)\n",
    "            columns.append(feature)\n",
    "\n",
    "columns.append(\"decision\")"
   ]
  },
  {
   "cell_type": "code",
   "execution_count": 12,
   "id": "funny-suspension",
   "metadata": {
    "pycharm": {
     "name": "#%%\n"
    }
   },
   "outputs": [],
   "source": [
    "df = df[columns]\n"
   ]
  },
  {
   "cell_type": "code",
   "execution_count": 13,
   "id": "accessory-billy",
   "metadata": {
    "pycharm": {
     "name": "#%%\n"
    }
   },
   "outputs": [],
   "source": [
    "\n",
    "df.loc[df[df.decision == 'Yes'].index, 'decision'] = 1\n",
    "df.loc[df[df.decision == 'No'].index, 'decision'] = 0"
   ]
  },
  {
   "cell_type": "code",
   "execution_count": 14,
   "id": "undefined-longer",
   "metadata": {
    "pycharm": {
     "name": "#%%\n"
    }
   },
   "outputs": [
    {
     "data": {
      "text/html": [
       "<div>\n",
       "<style scoped>\n",
       "    .dataframe tbody tr th:only-of-type {\n",
       "        vertical-align: middle;\n",
       "    }\n",
       "\n",
       "    .dataframe tbody tr th {\n",
       "        vertical-align: top;\n",
       "    }\n",
       "\n",
       "    .dataframe thead th {\n",
       "        text-align: right;\n",
       "    }\n",
       "</style>\n",
       "<table border=\"1\" class=\"dataframe\">\n",
       "  <thead>\n",
       "    <tr style=\"text-align: right;\">\n",
       "      <th></th>\n",
       "      <th>VGG-Face_cosine</th>\n",
       "      <th>VGG-Face_euclidean</th>\n",
       "      <th>VGG-Face_euclidean_l2</th>\n",
       "      <th>Facenet_cosine</th>\n",
       "      <th>Facenet_euclidean</th>\n",
       "      <th>Facenet_euclidean_l2</th>\n",
       "      <th>DeepFace_cosine</th>\n",
       "      <th>DeepFace_euclidean</th>\n",
       "      <th>DeepFace_euclidean_l2</th>\n",
       "      <th>decision</th>\n",
       "    </tr>\n",
       "  </thead>\n",
       "  <tbody>\n",
       "    <tr>\n",
       "      <th>0</th>\n",
       "      <td>0.1076</td>\n",
       "      <td>0.2939</td>\n",
       "      <td>0.4640</td>\n",
       "      <td>0.1564</td>\n",
       "      <td>6.8556</td>\n",
       "      <td>0.5592</td>\n",
       "      <td>0.2951</td>\n",
       "      <td>65.6765</td>\n",
       "      <td>0.7682</td>\n",
       "      <td>1</td>\n",
       "    </tr>\n",
       "    <tr>\n",
       "      <th>1</th>\n",
       "      <td>0.1314</td>\n",
       "      <td>0.3245</td>\n",
       "      <td>0.5126</td>\n",
       "      <td>0.2157</td>\n",
       "      <td>8.2025</td>\n",
       "      <td>0.6568</td>\n",
       "      <td>0.3808</td>\n",
       "      <td>73.9771</td>\n",
       "      <td>0.8727</td>\n",
       "      <td>1</td>\n",
       "    </tr>\n",
       "    <tr>\n",
       "      <th>2</th>\n",
       "      <td>0.1031</td>\n",
       "      <td>0.4133</td>\n",
       "      <td>0.4540</td>\n",
       "      <td>0.2728</td>\n",
       "      <td>9.2224</td>\n",
       "      <td>0.7386</td>\n",
       "      <td>0.2637</td>\n",
       "      <td>69.5387</td>\n",
       "      <td>0.7263</td>\n",
       "      <td>1</td>\n",
       "    </tr>\n",
       "    <tr>\n",
       "      <th>3</th>\n",
       "      <td>0.1132</td>\n",
       "      <td>0.3065</td>\n",
       "      <td>0.4759</td>\n",
       "      <td>0.1301</td>\n",
       "      <td>6.2278</td>\n",
       "      <td>0.5102</td>\n",
       "      <td>0.3276</td>\n",
       "      <td>72.6463</td>\n",
       "      <td>0.8095</td>\n",
       "      <td>1</td>\n",
       "    </tr>\n",
       "    <tr>\n",
       "      <th>4</th>\n",
       "      <td>0.1099</td>\n",
       "      <td>0.3396</td>\n",
       "      <td>0.4689</td>\n",
       "      <td>0.2024</td>\n",
       "      <td>7.9683</td>\n",
       "      <td>0.6362</td>\n",
       "      <td>0.2524</td>\n",
       "      <td>62.0719</td>\n",
       "      <td>0.7105</td>\n",
       "      <td>1</td>\n",
       "    </tr>\n",
       "  </tbody>\n",
       "</table>\n",
       "</div>"
      ],
      "text/plain": [
       "   VGG-Face_cosine  VGG-Face_euclidean  VGG-Face_euclidean_l2  Facenet_cosine  \\\n",
       "0           0.1076              0.2939                 0.4640          0.1564   \n",
       "1           0.1314              0.3245                 0.5126          0.2157   \n",
       "2           0.1031              0.4133                 0.4540          0.2728   \n",
       "3           0.1132              0.3065                 0.4759          0.1301   \n",
       "4           0.1099              0.3396                 0.4689          0.2024   \n",
       "\n",
       "   Facenet_euclidean  Facenet_euclidean_l2  DeepFace_cosine  \\\n",
       "0             6.8556                0.5592           0.2951   \n",
       "1             8.2025                0.6568           0.3808   \n",
       "2             9.2224                0.7386           0.2637   \n",
       "3             6.2278                0.5102           0.3276   \n",
       "4             7.9683                0.6362           0.2524   \n",
       "\n",
       "   DeepFace_euclidean  DeepFace_euclidean_l2 decision  \n",
       "0             65.6765                 0.7682        1  \n",
       "1             73.9771                 0.8727        1  \n",
       "2             69.5387                 0.7263        1  \n",
       "3             72.6463                 0.8095        1  \n",
       "4             62.0719                 0.7105        1  "
      ]
     },
     "execution_count": 14,
     "metadata": {},
     "output_type": "execute_result"
    }
   ],
   "source": [
    "df.head()\n"
   ]
  },
  {
   "cell_type": "markdown",
   "id": "killing-account",
   "metadata": {},
   "source": [
    "# Train test split"
   ]
  },
  {
   "cell_type": "code",
   "execution_count": 15,
   "id": "technological-produce",
   "metadata": {
    "pycharm": {
     "name": "#%%\n"
    }
   },
   "outputs": [],
   "source": [
    "from sklearn.model_selection import train_test_split"
   ]
  },
  {
   "cell_type": "code",
   "execution_count": 16,
   "id": "valuable-ozone",
   "metadata": {
    "pycharm": {
     "name": "#%%\n"
    }
   },
   "outputs": [],
   "source": [
    "df_train, df_test = train_test_split(df, test_size=0.3, random_state=34)\n"
   ]
  },
  {
   "cell_type": "code",
   "execution_count": 17,
   "id": "recreational-computer",
   "metadata": {
    "pycharm": {
     "name": "#%%\n"
    }
   },
   "outputs": [],
   "source": [
    "target_name = \"decision\"\n",
    "\n",
    "y_train = df_train[target_name].values\n",
    "x_train = df_train.drop(columns=[target_name]).values\n",
    "\n",
    "y_test = df_test[target_name].values\n",
    "x_test = df_test.drop(columns=[target_name]).values"
   ]
  },
  {
   "cell_type": "markdown",
   "id": "exposed-adapter",
   "metadata": {},
   "source": [
    "# lightGBM\n"
   ]
  },
  {
   "cell_type": "code",
   "execution_count": null,
   "id": "infinite-johnson",
   "metadata": {
    "pycharm": {
     "name": "#%%\n"
    }
   },
   "outputs": [],
   "source": [
    "!pip install lightgbm"
   ]
  },
  {
   "cell_type": "code",
   "execution_count": 18,
   "id": "frank-skirt",
   "metadata": {
    "pycharm": {
     "name": "#%%\n"
    }
   },
   "outputs": [],
   "source": [
    "import lightgbm as lgb\n"
   ]
  },
  {
   "cell_type": "code",
   "execution_count": 19,
   "id": "gentle-courtesy",
   "metadata": {
    "pycharm": {
     "name": "#%%\n"
    }
   },
   "outputs": [],
   "source": [
    "features = df.drop(columns=[target_name]).columns.tolist()\n",
    "\n",
    "lgb_train = lgb.Dataset(x_train, y_train, feature_name = features)\n",
    "lgb_test = lgb.Dataset(x_test, y_test, feature_name = features)"
   ]
  },
  {
   "cell_type": "code",
   "execution_count": 20,
   "id": "potential-carry",
   "metadata": {
    "pycharm": {
     "name": "#%%\n"
    }
   },
   "outputs": [],
   "source": [
    "params = {\n",
    "    'task': 'train'\n",
    "    , 'boosting_type': 'gbdt'\n",
    "    , 'objective': 'multiclass'\n",
    "    , 'num_class': 2\n",
    "    , 'metric': 'multi_logloss'\n",
    "    , 'force_col_wise': 'true'\n",
    "}"
   ]
  },
  {
   "cell_type": "code",
   "execution_count": 21,
   "id": "finnish-change",
   "metadata": {
    "pycharm": {
     "name": "#%%\n"
    }
   },
   "outputs": [
    {
     "name": "stdout",
     "output_type": "stream",
     "text": [
      "[LightGBM] [Info] Total Bins 1512\n",
      "[LightGBM] [Info] Number of data points in the train set: 502, number of used features: 9\n",
      "[LightGBM] [Info] Start training from score -0.689171\n",
      "[LightGBM] [Info] Start training from score -0.697139\n",
      "[LightGBM] [Warning] No further splits with positive gain, best gain: -inf\n",
      "[LightGBM] [Warning] No further splits with positive gain, best gain: -inf\n",
      "[1]\tvalid_0's multi_logloss: 0.616062\n",
      "Training until validation scores don't improve for 20 rounds\n",
      "[LightGBM] [Warning] No further splits with positive gain, best gain: -inf\n",
      "[LightGBM] [Warning] No further splits with positive gain, best gain: -inf\n",
      "[2]\tvalid_0's multi_logloss: 0.552517\n",
      "[LightGBM] [Warning] No further splits with positive gain, best gain: -inf\n",
      "[LightGBM] [Warning] No further splits with positive gain, best gain: -inf\n",
      "[3]\tvalid_0's multi_logloss: 0.499478\n",
      "[LightGBM] [Warning] No further splits with positive gain, best gain: -inf\n",
      "[LightGBM] [Warning] No further splits with positive gain, best gain: -inf\n",
      "[4]\tvalid_0's multi_logloss: 0.45435\n",
      "[LightGBM] [Warning] No further splits with positive gain, best gain: -inf\n",
      "[LightGBM] [Warning] No further splits with positive gain, best gain: -inf\n",
      "[5]\tvalid_0's multi_logloss: 0.416079\n",
      "[LightGBM] [Warning] No further splits with positive gain, best gain: -inf\n",
      "[LightGBM] [Warning] No further splits with positive gain, best gain: -inf\n",
      "[6]\tvalid_0's multi_logloss: 0.382899\n",
      "[LightGBM] [Warning] No further splits with positive gain, best gain: -inf\n",
      "[LightGBM] [Warning] No further splits with positive gain, best gain: -inf\n",
      "[7]\tvalid_0's multi_logloss: 0.3542\n",
      "[LightGBM] [Warning] No further splits with positive gain, best gain: -inf\n",
      "[LightGBM] [Warning] No further splits with positive gain, best gain: -inf\n",
      "[8]\tvalid_0's multi_logloss: 0.328901\n",
      "[LightGBM] [Warning] No further splits with positive gain, best gain: -inf\n",
      "[LightGBM] [Warning] No further splits with positive gain, best gain: -inf\n",
      "[9]\tvalid_0's multi_logloss: 0.307832\n",
      "[LightGBM] [Warning] No further splits with positive gain, best gain: -inf\n",
      "[LightGBM] [Warning] No further splits with positive gain, best gain: -inf\n",
      "[10]\tvalid_0's multi_logloss: 0.288102\n",
      "[LightGBM] [Warning] No further splits with positive gain, best gain: -inf\n",
      "[LightGBM] [Warning] No further splits with positive gain, best gain: -inf\n",
      "[11]\tvalid_0's multi_logloss: 0.271355\n",
      "[LightGBM] [Warning] No further splits with positive gain, best gain: -inf\n",
      "[LightGBM] [Warning] No further splits with positive gain, best gain: -inf\n",
      "[12]\tvalid_0's multi_logloss: 0.256966\n",
      "[LightGBM] [Warning] No further splits with positive gain, best gain: -inf\n",
      "[LightGBM] [Warning] No further splits with positive gain, best gain: -inf\n",
      "[13]\tvalid_0's multi_logloss: 0.24411\n",
      "[LightGBM] [Warning] No further splits with positive gain, best gain: -inf\n",
      "[LightGBM] [Warning] No further splits with positive gain, best gain: -inf\n",
      "[14]\tvalid_0's multi_logloss: 0.233006\n",
      "[LightGBM] [Warning] No further splits with positive gain, best gain: -inf\n",
      "[LightGBM] [Warning] No further splits with positive gain, best gain: -inf\n",
      "[15]\tvalid_0's multi_logloss: 0.221986\n",
      "[LightGBM] [Warning] No further splits with positive gain, best gain: -inf\n",
      "[LightGBM] [Warning] No further splits with positive gain, best gain: -inf\n",
      "[16]\tvalid_0's multi_logloss: 0.21375\n",
      "[LightGBM] [Warning] No further splits with positive gain, best gain: -inf\n",
      "[LightGBM] [Warning] No further splits with positive gain, best gain: -inf\n",
      "[17]\tvalid_0's multi_logloss: 0.206567\n",
      "[LightGBM] [Warning] No further splits with positive gain, best gain: -inf\n",
      "[LightGBM] [Warning] No further splits with positive gain, best gain: -inf\n",
      "[18]\tvalid_0's multi_logloss: 0.198771\n",
      "[LightGBM] [Warning] No further splits with positive gain, best gain: -inf\n",
      "[LightGBM] [Warning] No further splits with positive gain, best gain: -inf\n",
      "[19]\tvalid_0's multi_logloss: 0.19277\n",
      "[LightGBM] [Warning] No further splits with positive gain, best gain: -inf\n",
      "[LightGBM] [Warning] No further splits with positive gain, best gain: -inf\n",
      "[20]\tvalid_0's multi_logloss: 0.186786\n",
      "[LightGBM] [Warning] No further splits with positive gain, best gain: -inf\n",
      "[LightGBM] [Warning] No further splits with positive gain, best gain: -inf\n",
      "[21]\tvalid_0's multi_logloss: 0.18157\n",
      "[LightGBM] [Warning] No further splits with positive gain, best gain: -inf\n",
      "[LightGBM] [Warning] No further splits with positive gain, best gain: -inf\n",
      "[22]\tvalid_0's multi_logloss: 0.18003\n",
      "[LightGBM] [Warning] No further splits with positive gain, best gain: -inf\n",
      "[LightGBM] [Warning] No further splits with positive gain, best gain: -inf\n",
      "[23]\tvalid_0's multi_logloss: 0.176214\n",
      "[LightGBM] [Warning] No further splits with positive gain, best gain: -inf\n",
      "[LightGBM] [Warning] No further splits with positive gain, best gain: -inf\n",
      "[24]\tvalid_0's multi_logloss: 0.172571\n",
      "[LightGBM] [Warning] No further splits with positive gain, best gain: -inf\n",
      "[LightGBM] [Warning] No further splits with positive gain, best gain: -inf\n",
      "[25]\tvalid_0's multi_logloss: 0.171289\n",
      "[LightGBM] [Warning] No further splits with positive gain, best gain: -inf\n",
      "[LightGBM] [Warning] No further splits with positive gain, best gain: -inf\n",
      "[26]\tvalid_0's multi_logloss: 0.168664\n",
      "[LightGBM] [Warning] No further splits with positive gain, best gain: -inf\n",
      "[LightGBM] [Warning] No further splits with positive gain, best gain: -inf\n",
      "[27]\tvalid_0's multi_logloss: 0.164644\n",
      "[LightGBM] [Warning] No further splits with positive gain, best gain: -inf\n",
      "[LightGBM] [Warning] No further splits with positive gain, best gain: -inf\n",
      "[28]\tvalid_0's multi_logloss: 0.164875\n",
      "[LightGBM] [Warning] No further splits with positive gain, best gain: -inf\n",
      "[LightGBM] [Warning] No further splits with positive gain, best gain: -inf\n",
      "[29]\tvalid_0's multi_logloss: 0.162863\n",
      "[LightGBM] [Warning] No further splits with positive gain, best gain: -inf\n",
      "[LightGBM] [Warning] No further splits with positive gain, best gain: -inf\n",
      "[30]\tvalid_0's multi_logloss: 0.159607\n",
      "[LightGBM] [Warning] No further splits with positive gain, best gain: -inf\n",
      "[LightGBM] [Warning] No further splits with positive gain, best gain: -inf\n",
      "[31]\tvalid_0's multi_logloss: 0.160096\n",
      "[LightGBM] [Warning] No further splits with positive gain, best gain: -inf\n",
      "[LightGBM] [Warning] No further splits with positive gain, best gain: -inf\n",
      "[32]\tvalid_0's multi_logloss: 0.159057\n",
      "[LightGBM] [Warning] No further splits with positive gain, best gain: -inf\n",
      "[LightGBM] [Warning] No further splits with positive gain, best gain: -inf\n",
      "[33]\tvalid_0's multi_logloss: 0.157767\n",
      "[LightGBM] [Warning] No further splits with positive gain, best gain: -inf\n",
      "[LightGBM] [Warning] No further splits with positive gain, best gain: -inf\n",
      "[34]\tvalid_0's multi_logloss: 0.157613\n",
      "[LightGBM] [Warning] No further splits with positive gain, best gain: -inf\n",
      "[LightGBM] [Warning] No further splits with positive gain, best gain: -inf\n",
      "[35]\tvalid_0's multi_logloss: 0.159292\n",
      "[LightGBM] [Warning] No further splits with positive gain, best gain: -inf\n",
      "[LightGBM] [Warning] No further splits with positive gain, best gain: -inf\n",
      "[36]\tvalid_0's multi_logloss: 0.161107\n",
      "[LightGBM] [Warning] No further splits with positive gain, best gain: -inf\n",
      "[LightGBM] [Warning] No further splits with positive gain, best gain: -inf\n",
      "[37]\tvalid_0's multi_logloss: 0.161181\n",
      "[LightGBM] [Warning] No further splits with positive gain, best gain: -inf\n",
      "[LightGBM] [Warning] No further splits with positive gain, best gain: -inf\n",
      "[38]\tvalid_0's multi_logloss: 0.160921\n",
      "[LightGBM] [Warning] No further splits with positive gain, best gain: -inf\n",
      "[LightGBM] [Warning] No further splits with positive gain, best gain: -inf\n",
      "[39]\tvalid_0's multi_logloss: 0.164452\n",
      "[LightGBM] [Warning] No further splits with positive gain, best gain: -inf\n",
      "[LightGBM] [Warning] No further splits with positive gain, best gain: -inf\n",
      "[40]\tvalid_0's multi_logloss: 0.163925\n",
      "[LightGBM] [Warning] No further splits with positive gain, best gain: -inf\n",
      "[LightGBM] [Warning] No further splits with positive gain, best gain: -inf\n",
      "[41]\tvalid_0's multi_logloss: 0.16134\n",
      "[LightGBM] [Warning] No further splits with positive gain, best gain: -inf\n",
      "[LightGBM] [Warning] No further splits with positive gain, best gain: -inf\n",
      "[42]\tvalid_0's multi_logloss: 0.160713\n",
      "[LightGBM] [Warning] No further splits with positive gain, best gain: -inf\n",
      "[LightGBM] [Warning] No further splits with positive gain, best gain: -inf\n",
      "[43]\tvalid_0's multi_logloss: 0.16118\n",
      "[LightGBM] [Warning] No further splits with positive gain, best gain: -inf\n",
      "[LightGBM] [Warning] No further splits with positive gain, best gain: -inf\n",
      "[44]\tvalid_0's multi_logloss: 0.163694\n",
      "[LightGBM] [Warning] No further splits with positive gain, best gain: -inf\n",
      "[LightGBM] [Warning] No further splits with positive gain, best gain: -inf\n",
      "[45]\tvalid_0's multi_logloss: 0.162043\n",
      "[LightGBM] [Warning] No further splits with positive gain, best gain: -inf\n",
      "[LightGBM] [Warning] No further splits with positive gain, best gain: -inf\n",
      "[46]\tvalid_0's multi_logloss: 0.163097\n",
      "[LightGBM] [Warning] No further splits with positive gain, best gain: -inf\n",
      "[LightGBM] [Warning] No further splits with positive gain, best gain: -inf\n",
      "[47]\tvalid_0's multi_logloss: 0.162997\n",
      "[LightGBM] [Warning] No further splits with positive gain, best gain: -inf\n",
      "[LightGBM] [Warning] No further splits with positive gain, best gain: -inf\n",
      "[48]\tvalid_0's multi_logloss: 0.163302\n",
      "[LightGBM] [Warning] No further splits with positive gain, best gain: -inf\n",
      "[LightGBM] [Warning] No further splits with positive gain, best gain: -inf\n",
      "[49]\tvalid_0's multi_logloss: 0.166297\n",
      "[LightGBM] [Warning] No further splits with positive gain, best gain: -inf\n",
      "[LightGBM] [Warning] No further splits with positive gain, best gain: -inf\n",
      "[50]\tvalid_0's multi_logloss: 0.16643\n",
      "[LightGBM] [Warning] No further splits with positive gain, best gain: -inf\n",
      "[LightGBM] [Warning] No further splits with positive gain, best gain: -inf\n",
      "[51]\tvalid_0's multi_logloss: 0.165187\n",
      "[LightGBM] [Warning] No further splits with positive gain, best gain: -inf\n",
      "[LightGBM] [Warning] No further splits with positive gain, best gain: -inf\n",
      "[52]\tvalid_0's multi_logloss: 0.167443\n",
      "[LightGBM] [Warning] No further splits with positive gain, best gain: -inf\n",
      "[LightGBM] [Warning] No further splits with positive gain, best gain: -inf\n",
      "[53]\tvalid_0's multi_logloss: 0.169606\n",
      "[LightGBM] [Warning] No further splits with positive gain, best gain: -inf\n",
      "[LightGBM] [Warning] No further splits with positive gain, best gain: -inf\n",
      "[54]\tvalid_0's multi_logloss: 0.171341\n",
      "Early stopping, best iteration is:\n",
      "[34]\tvalid_0's multi_logloss: 0.157613\n"
     ]
    }
   ],
   "source": [
    "gbm = lgb.train(params, lgb_train, num_boost_round=400, early_stopping_rounds = 20 , valid_sets=[lgb_test])\n",
    "# gbm = lgb.train(params, lgb_train, num_boost_round=400, valid_sets=[lgb_test])\n"
   ]
  },
  {
   "cell_type": "code",
   "execution_count": 22,
   "id": "annoying-bacteria",
   "metadata": {
    "pycharm": {
     "name": "#%%\n"
    }
   },
   "outputs": [
    {
     "data": {
      "text/plain": [
       "<lightgbm.basic.Booster at 0x249165c8220>"
      ]
     },
     "execution_count": 22,
     "metadata": {},
     "output_type": "execute_result"
    }
   ],
   "source": [
    "gbm.save_model(\"face-recognition-ensemble-model_test30.txt\")\n"
   ]
  },
  {
   "cell_type": "markdown",
   "id": "seventh-abortion",
   "metadata": {},
   "source": [
    "# Evaluation"
   ]
  },
  {
   "cell_type": "code",
   "execution_count": 23,
   "id": "yellow-heritage",
   "metadata": {
    "pycharm": {
     "name": "#%%\n"
    }
   },
   "outputs": [],
   "source": [
    "predictions = gbm.predict(x_test)\n"
   ]
  },
  {
   "cell_type": "code",
   "execution_count": 24,
   "id": "informational-nashville",
   "metadata": {
    "pycharm": {
     "name": "#%%\n"
    }
   },
   "outputs": [
    {
     "name": "stdout",
     "output_type": "stream",
     "text": [
      "prediction is  0  whereas actual is  0\n",
      "prediction is  0  whereas actual is  0\n",
      "prediction is  0  whereas actual is  0\n",
      "prediction is  1  whereas actual is  1\n",
      "prediction is  1  whereas actual is  1\n",
      "prediction is  0  whereas actual is  0\n",
      "prediction is  1  whereas actual is  1\n",
      "prediction is  1  whereas actual is  1\n",
      "prediction is  0  whereas actual is  0\n",
      "prediction is  1  whereas actual is  1\n",
      "prediction is  1  whereas actual is  1\n",
      "prediction is  1  whereas actual is  1\n",
      "prediction is  0  whereas actual is  1\n",
      "prediction is  1  whereas actual is  1\n",
      "prediction is  0  whereas actual is  0\n",
      "prediction is  1  whereas actual is  0\n",
      "prediction is  0  whereas actual is  0\n",
      "prediction is  0  whereas actual is  0\n",
      "prediction is  0  whereas actual is  0\n",
      "prediction is  0  whereas actual is  0\n",
      "prediction is  1  whereas actual is  1\n",
      "prediction is  0  whereas actual is  1\n",
      "prediction is  0  whereas actual is  0\n",
      "prediction is  0  whereas actual is  0\n",
      "prediction is  0  whereas actual is  0\n",
      "prediction is  0  whereas actual is  0\n",
      "prediction is  0  whereas actual is  1\n",
      "prediction is  0  whereas actual is  0\n",
      "prediction is  1  whereas actual is  1\n",
      "prediction is  0  whereas actual is  0\n",
      "prediction is  0  whereas actual is  0\n",
      "prediction is  1  whereas actual is  1\n",
      "prediction is  0  whereas actual is  0\n",
      "prediction is  1  whereas actual is  1\n",
      "prediction is  0  whereas actual is  0\n",
      "prediction is  0  whereas actual is  0\n",
      "prediction is  1  whereas actual is  1\n",
      "prediction is  0  whereas actual is  0\n",
      "prediction is  1  whereas actual is  1\n",
      "prediction is  1  whereas actual is  1\n",
      "prediction is  0  whereas actual is  0\n",
      "prediction is  0  whereas actual is  0\n",
      "prediction is  1  whereas actual is  1\n",
      "prediction is  0  whereas actual is  0\n",
      "prediction is  1  whereas actual is  1\n",
      "prediction is  1  whereas actual is  1\n",
      "prediction is  1  whereas actual is  1\n",
      "prediction is  1  whereas actual is  1\n",
      "prediction is  0  whereas actual is  0\n",
      "prediction is  0  whereas actual is  0\n",
      "prediction is  1  whereas actual is  1\n",
      "prediction is  1  whereas actual is  1\n",
      "prediction is  1  whereas actual is  1\n",
      "prediction is  0  whereas actual is  0\n",
      "prediction is  1  whereas actual is  1\n",
      "prediction is  1  whereas actual is  1\n",
      "prediction is  0  whereas actual is  0\n",
      "prediction is  0  whereas actual is  0\n",
      "prediction is  1  whereas actual is  1\n",
      "prediction is  0  whereas actual is  0\n",
      "prediction is  0  whereas actual is  0\n",
      "prediction is  1  whereas actual is  1\n",
      "prediction is  0  whereas actual is  0\n",
      "prediction is  0  whereas actual is  0\n",
      "prediction is  0  whereas actual is  0\n",
      "prediction is  0  whereas actual is  0\n",
      "prediction is  0  whereas actual is  0\n",
      "prediction is  1  whereas actual is  1\n",
      "prediction is  0  whereas actual is  1\n",
      "prediction is  0  whereas actual is  0\n",
      "prediction is  1  whereas actual is  1\n",
      "prediction is  1  whereas actual is  1\n",
      "prediction is  1  whereas actual is  1\n",
      "prediction is  0  whereas actual is  0\n",
      "prediction is  1  whereas actual is  1\n",
      "prediction is  1  whereas actual is  1\n",
      "prediction is  1  whereas actual is  1\n",
      "prediction is  1  whereas actual is  0\n",
      "prediction is  1  whereas actual is  1\n",
      "prediction is  0  whereas actual is  0\n",
      "prediction is  1  whereas actual is  1\n",
      "prediction is  1  whereas actual is  1\n",
      "prediction is  1  whereas actual is  1\n",
      "prediction is  1  whereas actual is  1\n",
      "prediction is  0  whereas actual is  0\n",
      "prediction is  1  whereas actual is  1\n",
      "prediction is  0  whereas actual is  0\n",
      "prediction is  0  whereas actual is  0\n",
      "prediction is  0  whereas actual is  0\n",
      "prediction is  1  whereas actual is  1\n",
      "prediction is  0  whereas actual is  0\n",
      "prediction is  1  whereas actual is  1\n",
      "prediction is  0  whereas actual is  0\n",
      "prediction is  1  whereas actual is  1\n",
      "prediction is  1  whereas actual is  1\n",
      "prediction is  0  whereas actual is  0\n",
      "prediction is  1  whereas actual is  1\n",
      "prediction is  1  whereas actual is  1\n",
      "prediction is  0  whereas actual is  0\n",
      "prediction is  0  whereas actual is  0\n",
      "prediction is  1  whereas actual is  1\n",
      "prediction is  1  whereas actual is  1\n",
      "prediction is  0  whereas actual is  0\n",
      "prediction is  1  whereas actual is  1\n",
      "prediction is  1  whereas actual is  1\n",
      "prediction is  0  whereas actual is  0\n",
      "prediction is  0  whereas actual is  1\n",
      "prediction is  1  whereas actual is  1\n",
      "prediction is  1  whereas actual is  1\n",
      "prediction is  0  whereas actual is  0\n",
      "prediction is  1  whereas actual is  1\n",
      "prediction is  1  whereas actual is  1\n",
      "prediction is  1  whereas actual is  1\n",
      "prediction is  0  whereas actual is  0\n",
      "prediction is  1  whereas actual is  1\n",
      "prediction is  0  whereas actual is  0\n",
      "prediction is  1  whereas actual is  1\n",
      "prediction is  0  whereas actual is  1\n",
      "prediction is  0  whereas actual is  0\n",
      "prediction is  0  whereas actual is  1\n",
      "prediction is  1  whereas actual is  1\n",
      "prediction is  0  whereas actual is  0\n",
      "prediction is  1  whereas actual is  1\n",
      "prediction is  1  whereas actual is  1\n",
      "prediction is  1  whereas actual is  1\n",
      "prediction is  0  whereas actual is  0\n",
      "prediction is  0  whereas actual is  0\n",
      "prediction is  1  whereas actual is  0\n",
      "prediction is  1  whereas actual is  1\n",
      "prediction is  0  whereas actual is  0\n",
      "prediction is  0  whereas actual is  0\n",
      "prediction is  0  whereas actual is  0\n",
      "prediction is  1  whereas actual is  1\n",
      "prediction is  0  whereas actual is  0\n",
      "prediction is  1  whereas actual is  1\n",
      "prediction is  1  whereas actual is  1\n",
      "prediction is  0  whereas actual is  0\n",
      "prediction is  1  whereas actual is  1\n",
      "prediction is  0  whereas actual is  0\n",
      "prediction is  1  whereas actual is  1\n",
      "prediction is  1  whereas actual is  1\n",
      "prediction is  0  whereas actual is  1\n",
      "prediction is  1  whereas actual is  1\n",
      "prediction is  1  whereas actual is  1\n",
      "prediction is  0  whereas actual is  0\n",
      "prediction is  1  whereas actual is  1\n",
      "prediction is  0  whereas actual is  0\n",
      "prediction is  0  whereas actual is  0\n",
      "prediction is  0  whereas actual is  0\n",
      "prediction is  1  whereas actual is  1\n",
      "prediction is  1  whereas actual is  1\n",
      "prediction is  1  whereas actual is  1\n",
      "prediction is  1  whereas actual is  1\n",
      "prediction is  1  whereas actual is  1\n",
      "prediction is  1  whereas actual is  1\n",
      "prediction is  1  whereas actual is  1\n",
      "prediction is  1  whereas actual is  1\n",
      "prediction is  1  whereas actual is  1\n",
      "prediction is  0  whereas actual is  0\n",
      "prediction is  0  whereas actual is  0\n",
      "prediction is  0  whereas actual is  0\n",
      "prediction is  0  whereas actual is  0\n",
      "prediction is  1  whereas actual is  1\n",
      "prediction is  0  whereas actual is  0\n",
      "prediction is  0  whereas actual is  0\n",
      "prediction is  0  whereas actual is  0\n",
      "prediction is  0  whereas actual is  0\n",
      "prediction is  0  whereas actual is  1\n",
      "prediction is  0  whereas actual is  0\n",
      "prediction is  0  whereas actual is  0\n",
      "prediction is  1  whereas actual is  1\n",
      "prediction is  0  whereas actual is  0\n",
      "prediction is  1  whereas actual is  1\n",
      "prediction is  0  whereas actual is  0\n",
      "prediction is  0  whereas actual is  0\n",
      "prediction is  1  whereas actual is  1\n",
      "prediction is  1  whereas actual is  1\n",
      "prediction is  1  whereas actual is  1\n",
      "prediction is  0  whereas actual is  0\n",
      "prediction is  0  whereas actual is  0\n",
      "prediction is  0  whereas actual is  0\n",
      "prediction is  1  whereas actual is  1\n",
      "prediction is  1  whereas actual is  1\n",
      "prediction is  0  whereas actual is  0\n",
      "prediction is  1  whereas actual is  1\n",
      "prediction is  1  whereas actual is  1\n",
      "prediction is  1  whereas actual is  1\n",
      "prediction is  0  whereas actual is  0\n",
      "prediction is  1  whereas actual is  1\n",
      "prediction is  1  whereas actual is  0\n",
      "prediction is  0  whereas actual is  0\n",
      "prediction is  0  whereas actual is  0\n",
      "prediction is  0  whereas actual is  0\n",
      "prediction is  0  whereas actual is  0\n",
      "prediction is  0  whereas actual is  0\n",
      "prediction is  1  whereas actual is  1\n",
      "prediction is  1  whereas actual is  0\n",
      "prediction is  0  whereas actual is  0\n",
      "prediction is  0  whereas actual is  0\n",
      "prediction is  0  whereas actual is  0\n",
      "prediction is  0  whereas actual is  0\n",
      "prediction is  0  whereas actual is  0\n",
      "prediction is  1  whereas actual is  1\n",
      "prediction is  1  whereas actual is  1\n",
      "prediction is  1  whereas actual is  1\n",
      "prediction is  0  whereas actual is  0\n",
      "prediction is  1  whereas actual is  1\n",
      "prediction is  1  whereas actual is  1\n",
      "prediction is  0  whereas actual is  0\n",
      "prediction is  0  whereas actual is  0\n",
      "prediction is  0  whereas actual is  0\n",
      "prediction is  0  whereas actual is  0\n",
      "prediction is  0  whereas actual is  0\n",
      "prediction is  1  whereas actual is  1\n",
      "prediction is  0  whereas actual is  0\n",
      "prediction is  1  whereas actual is  1\n",
      "accuracy:  93.52 %\n"
     ]
    }
   ],
   "source": [
    "prediction_classes = []\n",
    "classified = 0\n",
    "\n",
    "index = 0\n",
    "for prediction in predictions:\n",
    "    prediction_class = np.argmax(prediction)\n",
    "    prediction_classes.append(prediction_class)\n",
    "    \n",
    "    actual = y_test[index]\n",
    "    \n",
    "    print(\"prediction is \",prediction_class,\" whereas actual is \",actual)\n",
    "    if actual == prediction_class:\n",
    "        classified = classified + 1\n",
    "    \n",
    "    index = index + 1\n",
    "\n",
    "#print(classified,\" instances are classified in \",len(predictions),\" instances\") \n",
    "print(\"accuracy: \",round(100*classified/len(predictions),2),\"%\")"
   ]
  },
  {
   "cell_type": "code",
   "execution_count": 25,
   "id": "lonely-stretch",
   "metadata": {
    "pycharm": {
     "name": "#%%\n"
    }
   },
   "outputs": [
    {
     "name": "stdout",
     "output_type": "stream",
     "text": [
      "202  instances are classified in  216  instances\n"
     ]
    }
   ],
   "source": [
    "print(classified,\" instances are classified in \",len(predictions),\" instances\") \n"
   ]
  },
  {
   "cell_type": "code",
   "execution_count": 26,
   "id": "aware-ivory",
   "metadata": {
    "pycharm": {
     "name": "#%%\n"
    }
   },
   "outputs": [
    {
     "name": "stdout",
     "output_type": "stream",
     "text": [
      "[0 0 0 1 1 0 1 1 0 1 1 1 1 1 0 0 0 0 0 0 1 1 0 0 0 0 1 0 1 0 0 1 0 1 0 0 1\n",
      " 0 1 1 0 0 1 0 1 1 1 1 0 0 1 1 1 0 1 1 0 0 1 0 0 1 0 0 0 0 0 1 1 0 1 1 1 0\n",
      " 1 1 1 0 1 0 1 1 1 1 0 1 0 0 0 1 0 1 0 1 1 0 1 1 0 0 1 1 0 1 1 0 1 1 1 0 1\n",
      " 1 1 0 1 0 1 1 0 1 1 0 1 1 1 0 0 0 1 0 0 0 1 0 1 1 0 1 0 1 1 1 1 1 0 1 0 0\n",
      " 0 1 1 1 1 1 1 1 1 1 0 0 0 0 1 0 0 0 0 1 0 0 1 0 1 0 0 1 1 1 0 0 0 1 1 0 1\n",
      " 1 1 0 1 0 0 0 0 0 0 1 0 0 0 0 0 0 1 1 1 0 1 1 0 0 0 0 0 1 0 1]\n",
      "[0, 0, 0, 1, 1, 0, 1, 1, 0, 1, 1, 1, 0, 1, 0, 1, 0, 0, 0, 0, 1, 0, 0, 0, 0, 0, 0, 0, 1, 0, 0, 1, 0, 1, 0, 0, 1, 0, 1, 1, 0, 0, 1, 0, 1, 1, 1, 1, 0, 0, 1, 1, 1, 0, 1, 1, 0, 0, 1, 0, 0, 1, 0, 0, 0, 0, 0, 1, 0, 0, 1, 1, 1, 0, 1, 1, 1, 1, 1, 0, 1, 1, 1, 1, 0, 1, 0, 0, 0, 1, 0, 1, 0, 1, 1, 0, 1, 1, 0, 0, 1, 1, 0, 1, 1, 0, 0, 1, 1, 0, 1, 1, 1, 0, 1, 0, 1, 0, 0, 0, 1, 0, 1, 1, 1, 0, 0, 1, 1, 0, 0, 0, 1, 0, 1, 1, 0, 1, 0, 1, 1, 0, 1, 1, 0, 1, 0, 0, 0, 1, 1, 1, 1, 1, 1, 1, 1, 1, 0, 0, 0, 0, 1, 0, 0, 0, 0, 0, 0, 0, 1, 0, 1, 0, 0, 1, 1, 1, 0, 0, 0, 1, 1, 0, 1, 1, 1, 0, 1, 1, 0, 0, 0, 0, 0, 1, 1, 0, 0, 0, 0, 0, 1, 1, 1, 0, 1, 1, 0, 0, 0, 0, 0, 1, 0, 1]\n"
     ]
    },
    {
     "data": {
      "text/plain": [
       "(None, None)"
      ]
     },
     "execution_count": 26,
     "metadata": {},
     "output_type": "execute_result"
    }
   ],
   "source": [
    "print(y_test), print(prediction_classes)"
   ]
  },
  {
   "cell_type": "code",
   "execution_count": 27,
   "id": "chubby-radiation",
   "metadata": {
    "pycharm": {
     "name": "#%%\n"
    }
   },
   "outputs": [
    {
     "name": "stdout",
     "output_type": "stream",
     "text": [
      "[0, 0, 0, 1, 1, 0, 1, 1, 0, 1, 1, 1, 1, 1, 0, 0, 0, 0, 0, 0, 1, 1, 0, 0, 0, 0, 1, 0, 1, 0, 0, 1, 0, 1, 0, 0, 1, 0, 1, 1, 0, 0, 1, 0, 1, 1, 1, 1, 0, 0, 1, 1, 1, 0, 1, 1, 0, 0, 1, 0, 0, 1, 0, 0, 0, 0, 0, 1, 1, 0, 1, 1, 1, 0, 1, 1, 1, 0, 1, 0, 1, 1, 1, 1, 0, 1, 0, 0, 0, 1, 0, 1, 0, 1, 1, 0, 1, 1, 0, 0, 1, 1, 0, 1, 1, 0, 1, 1, 1, 0, 1, 1, 1, 0, 1, 0, 1, 1, 0, 1, 1, 0, 1, 1, 1, 0, 0, 0, 1, 0, 0, 0, 1, 0, 1, 1, 0, 1, 0, 1, 1, 1, 1, 1, 0, 1, 0, 0, 0, 1, 1, 1, 1, 1, 1, 1, 1, 1, 0, 0, 0, 0, 1, 0, 0, 0, 0, 1, 0, 0, 1, 0, 1, 0, 0, 1, 1, 1, 0, 0, 0, 1, 1, 0, 1, 1, 1, 0, 1, 0, 0, 0, 0, 0, 0, 1, 0, 0, 0, 0, 0, 0, 1, 1, 1, 0, 1, 1, 0, 0, 0, 0, 0, 1, 0, 1]\n",
      "[0, 0, 0, 1, 1, 0, 1, 1, 0, 1, 1, 1, 0, 1, 0, 1, 0, 0, 0, 0, 1, 0, 0, 0, 0, 0, 0, 0, 1, 0, 0, 1, 0, 1, 0, 0, 1, 0, 1, 1, 0, 0, 1, 0, 1, 1, 1, 1, 0, 0, 1, 1, 1, 0, 1, 1, 0, 0, 1, 0, 0, 1, 0, 0, 0, 0, 0, 1, 0, 0, 1, 1, 1, 0, 1, 1, 1, 1, 1, 0, 1, 1, 1, 1, 0, 1, 0, 0, 0, 1, 0, 1, 0, 1, 1, 0, 1, 1, 0, 0, 1, 1, 0, 1, 1, 0, 0, 1, 1, 0, 1, 1, 1, 0, 1, 0, 1, 0, 0, 0, 1, 0, 1, 1, 1, 0, 0, 1, 1, 0, 0, 0, 1, 0, 1, 1, 0, 1, 0, 1, 1, 0, 1, 1, 0, 1, 0, 0, 0, 1, 1, 1, 1, 1, 1, 1, 1, 1, 0, 0, 0, 0, 1, 0, 0, 0, 0, 0, 0, 0, 1, 0, 1, 0, 0, 1, 1, 1, 0, 0, 0, 1, 1, 0, 1, 1, 1, 0, 1, 1, 0, 0, 0, 0, 0, 1, 1, 0, 0, 0, 0, 0, 1, 1, 1, 0, 1, 1, 0, 0, 0, 0, 0, 1, 0, 1]\n"
     ]
    },
    {
     "data": {
      "text/plain": [
       "(None, None)"
      ]
     },
     "execution_count": 27,
     "metadata": {},
     "output_type": "execute_result"
    }
   ],
   "source": [
    "prediction_classes_test = np.array(prediction_classes) \n",
    "y_test_arr = y_test\n",
    "\n",
    "\n",
    "print(y_test_arr.tolist()), print(prediction_classes)"
   ]
  },
  {
   "cell_type": "code",
   "execution_count": 28,
   "id": "known-collector",
   "metadata": {
    "pycharm": {
     "name": "#%%\n"
    }
   },
   "outputs": [],
   "source": [
    "cm = confusion_matrix(y_test_arr.tolist(), prediction_classes_test)"
   ]
  },
  {
   "cell_type": "code",
   "execution_count": 29,
   "id": "separated-ancient",
   "metadata": {
    "pycharm": {
     "name": "#%%\n"
    }
   },
   "outputs": [
    {
     "data": {
      "text/plain": [
       "array([[102,   5],\n",
       "       [  9, 100]], dtype=int64)"
      ]
     },
     "execution_count": 29,
     "metadata": {},
     "output_type": "execute_result"
    }
   ],
   "source": [
    "cm"
   ]
  },
  {
   "cell_type": "code",
   "execution_count": 30,
   "id": "competent-windsor",
   "metadata": {
    "pycharm": {
     "name": "#%%\n"
    }
   },
   "outputs": [],
   "source": [
    "tn, fp, fn, tp = cm.ravel()\n"
   ]
  },
  {
   "cell_type": "code",
   "execution_count": 31,
   "id": "least-birmingham",
   "metadata": {
    "pycharm": {
     "name": "#%%\n"
    }
   },
   "outputs": [
    {
     "data": {
      "text/plain": [
       "(102, 5, 9, 100)"
      ]
     },
     "execution_count": 31,
     "metadata": {},
     "output_type": "execute_result"
    }
   ],
   "source": [
    "tn, fp, fn, tp\n"
   ]
  },
  {
   "cell_type": "code",
   "execution_count": 32,
   "id": "decimal-termination",
   "metadata": {
    "pycharm": {
     "name": "#%%\n"
    }
   },
   "outputs": [],
   "source": [
    "recall = tp / (tp + fn)\n",
    "precision = tp / (tp + fp)\n",
    "accuracy = (tp + tn)/(tn + fp +  fn + tp)\n",
    "f1 = 2 * (precision * recall) / (precision + recall)"
   ]
  },
  {
   "cell_type": "code",
   "execution_count": 33,
   "id": "checked-freeware",
   "metadata": {
    "pycharm": {
     "name": "#%%\n"
    }
   },
   "outputs": [
    {
     "name": "stdout",
     "output_type": "stream",
     "text": [
      "Precision:  95.23809523809523 %\n",
      "Recall:  91.74311926605505 %\n",
      "F1 score  93.45794392523365 %\n",
      "Accuracy:  93.51851851851852 %\n"
     ]
    }
   ],
   "source": [
    "print(\"Precision: \", 100*precision,\"%\")\n",
    "print(\"Recall: \", 100*recall,\"%\")\n",
    "print(\"F1 score \",100*f1, \"%\")\n",
    "print(\"Accuracy: \", 100*accuracy,\"%\")"
   ]
  },
  {
   "cell_type": "code",
   "execution_count": 34,
   "id": "portable-hunger",
   "metadata": {
    "pycharm": {
     "name": "#%%\n"
    }
   },
   "outputs": [
    {
     "data": {
      "text/plain": [
       "<Figure size 504x504 with 0 Axes>"
      ]
     },
     "metadata": {},
     "output_type": "display_data"
    },
    {
     "data": {
      "image/png": "[encoded data removed]",
      "text/plain": [
       "<Figure size 432x288 with 1 Axes>"
      ]
     },
     "metadata": {
      "needs_background": "light"
     },
     "output_type": "display_data"
    }
   ],
   "source": [
    "plt.figure(figsize=(7,7))\n",
    "ax = lgb.plot_importance(gbm, max_num_features=20)\n",
    "plt.show()"
   ]
  },
  {
   "cell_type": "code",
   "execution_count": 35,
   "id": "polyphonic-survey",
   "metadata": {
    "pycharm": {
     "name": "#%%\n"
    }
   },
   "outputs": [],
   "source": [
    "y_pred_proba = predictions[::,1]\n"
   ]
  },
  {
   "cell_type": "code",
   "execution_count": 36,
   "id": "strong-individual",
   "metadata": {
    "pycharm": {
     "name": "#%%\n"
    }
   },
   "outputs": [],
   "source": [
    "from sklearn import metrics\n",
    "fpr, tpr, _ = metrics.roc_curve(y_test_arr.tolist(),  y_pred_proba)\n",
    "auc = metrics.roc_auc_score(y_test_arr.tolist(), y_pred_proba)"
   ]
  },
  {
   "cell_type": "code",
   "execution_count": 37,
   "id": "emerging-present",
   "metadata": {
    "pycharm": {
     "name": "#%%\n"
    }
   },
   "outputs": [
    {
     "data": {
      "text/plain": [
       "[<matplotlib.lines.Line2D at 0x249164903a0>]"
      ]
     },
     "execution_count": 37,
     "metadata": {},
     "output_type": "execute_result"
    },
    {
     "data": {
      "image/png": "[encoded data removed]",
      "text/plain": [
       "<Figure size 432x288 with 1 Axes>"
      ]
     },
     "metadata": {
      "needs_background": "light"
     },
     "output_type": "display_data"
    }
   ],
   "source": [
    "plt.figure(figsize=(6,4))\n",
    "plt.plot(fpr,tpr,label=\"data 1, auc=\"+str(auc))"
   ]
  },
  {
   "cell_type": "code",
   "execution_count": 38,
   "id": "strange-independence",
   "metadata": {
    "pycharm": {
     "name": "#%%\n"
    }
   },
   "outputs": [],
   "source": [
    "deepface_ensemble = lgb.Booster(model_file= 'face-recognition-ensemble-model_test30.txt')\n"
   ]
  },
  {
   "cell_type": "code",
   "execution_count": 43,
   "id": "heard-basics",
   "metadata": {
    "pycharm": {
     "name": "#%%\n"
    }
   },
   "outputs": [],
   "source": [
    "from PIL import Image\n",
    "testImage = Image.open(\"Test_img/demo1.jpg\")\n",
    "testimgNp = np.array(testImage, \"uint8\")"
   ]
  },
  {
   "cell_type": "code",
   "execution_count": 46,
   "id": "sharing-presentation",
   "metadata": {
    "pycharm": {
     "name": "#%%\n"
    }
   },
   "outputs": [
    {
     "ename": "LightGBMError",
     "evalue": "Unknown format of training data.",
     "output_type": "error",
     "traceback": [
      "\u001b[1;31m---------------------------------------------------------------------------\u001b[0m",
      "\u001b[1;31mLightGBMError\u001b[0m                             Traceback (most recent call last)",
      "\u001b[1;32m<ipython-input-46-783204f50d4d>\u001b[0m in \u001b[0;36m<module>\u001b[1;34m\u001b[0m\n\u001b[1;32m----> 1\u001b[1;33m \u001b[0mbulk_predictions\u001b[0m \u001b[1;33m=\u001b[0m \u001b[0mdeepface_ensemble\u001b[0m\u001b[1;33m.\u001b[0m\u001b[0mpredict\u001b[0m\u001b[1;33m(\u001b[0m\u001b[1;34m\"Test_img/demo1.jpg\"\u001b[0m\u001b[1;33m)\u001b[0m\u001b[1;33m\u001b[0m\u001b[1;33m\u001b[0m\u001b[0m\n\u001b[0m\u001b[0;32m      2\u001b[0m \u001b[0mprint\u001b[0m\u001b[1;33m(\u001b[0m\u001b[0mbulk_predictions\u001b[0m\u001b[1;33m)\u001b[0m\u001b[1;33m\u001b[0m\u001b[1;33m\u001b[0m\u001b[0m\n",
      "\u001b[1;32me:\\pre-thesis\\project\\venv\\lib\\site-packages\\lightgbm\\basic.py\u001b[0m in \u001b[0;36mpredict\u001b[1;34m(self, data, start_iteration, num_iteration, raw_score, pred_leaf, pred_contrib, data_has_header, is_reshape, **kwargs)\u001b[0m\n\u001b[0;32m   3140\u001b[0m             \u001b[1;32melse\u001b[0m\u001b[1;33m:\u001b[0m\u001b[1;33m\u001b[0m\u001b[1;33m\u001b[0m\u001b[0m\n\u001b[0;32m   3141\u001b[0m                 \u001b[0mnum_iteration\u001b[0m \u001b[1;33m=\u001b[0m \u001b[1;33m-\u001b[0m\u001b[1;36m1\u001b[0m\u001b[1;33m\u001b[0m\u001b[1;33m\u001b[0m\u001b[0m\n\u001b[1;32m-> 3142\u001b[1;33m         return predictor.predict(data, start_iteration, num_iteration,\n\u001b[0m\u001b[0;32m   3143\u001b[0m                                  \u001b[0mraw_score\u001b[0m\u001b[1;33m,\u001b[0m \u001b[0mpred_leaf\u001b[0m\u001b[1;33m,\u001b[0m \u001b[0mpred_contrib\u001b[0m\u001b[1;33m,\u001b[0m\u001b[1;33m\u001b[0m\u001b[1;33m\u001b[0m\u001b[0m\n\u001b[0;32m   3144\u001b[0m                                  data_has_header, is_reshape)\n",
      "\u001b[1;32me:\\pre-thesis\\project\\venv\\lib\\site-packages\\lightgbm\\basic.py\u001b[0m in \u001b[0;36mpredict\u001b[1;34m(self, data, start_iteration, num_iteration, raw_score, pred_leaf, pred_contrib, data_has_header, is_reshape)\u001b[0m\n\u001b[0;32m    708\u001b[0m         \u001b[1;32mif\u001b[0m \u001b[0misinstance\u001b[0m\u001b[1;33m(\u001b[0m\u001b[0mdata\u001b[0m\u001b[1;33m,\u001b[0m \u001b[0mstr\u001b[0m\u001b[1;33m)\u001b[0m\u001b[1;33m:\u001b[0m\u001b[1;33m\u001b[0m\u001b[1;33m\u001b[0m\u001b[0m\n\u001b[0;32m    709\u001b[0m             \u001b[1;32mwith\u001b[0m \u001b[0m_TempFile\u001b[0m\u001b[1;33m(\u001b[0m\u001b[1;33m)\u001b[0m \u001b[1;32mas\u001b[0m \u001b[0mf\u001b[0m\u001b[1;33m:\u001b[0m\u001b[1;33m\u001b[0m\u001b[1;33m\u001b[0m\u001b[0m\n\u001b[1;32m--> 710\u001b[1;33m                 _safe_call(_LIB.LGBM_BoosterPredictForFile(\n\u001b[0m\u001b[0;32m    711\u001b[0m                     \u001b[0mself\u001b[0m\u001b[1;33m.\u001b[0m\u001b[0mhandle\u001b[0m\u001b[1;33m,\u001b[0m\u001b[1;33m\u001b[0m\u001b[1;33m\u001b[0m\u001b[0m\n\u001b[0;32m    712\u001b[0m                     \u001b[0mc_str\u001b[0m\u001b[1;33m(\u001b[0m\u001b[0mdata\u001b[0m\u001b[1;33m)\u001b[0m\u001b[1;33m,\u001b[0m\u001b[1;33m\u001b[0m\u001b[1;33m\u001b[0m\u001b[0m\n",
      "\u001b[1;32me:\\pre-thesis\\project\\venv\\lib\\site-packages\\lightgbm\\basic.py\u001b[0m in \u001b[0;36m_safe_call\u001b[1;34m(ret)\u001b[0m\n\u001b[0;32m    108\u001b[0m     \"\"\"\n\u001b[0;32m    109\u001b[0m     \u001b[1;32mif\u001b[0m \u001b[0mret\u001b[0m \u001b[1;33m!=\u001b[0m \u001b[1;36m0\u001b[0m\u001b[1;33m:\u001b[0m\u001b[1;33m\u001b[0m\u001b[1;33m\u001b[0m\u001b[0m\n\u001b[1;32m--> 110\u001b[1;33m         \u001b[1;32mraise\u001b[0m \u001b[0mLightGBMError\u001b[0m\u001b[1;33m(\u001b[0m\u001b[0m_LIB\u001b[0m\u001b[1;33m.\u001b[0m\u001b[0mLGBM_GetLastError\u001b[0m\u001b[1;33m(\u001b[0m\u001b[1;33m)\u001b[0m\u001b[1;33m.\u001b[0m\u001b[0mdecode\u001b[0m\u001b[1;33m(\u001b[0m\u001b[1;34m'utf-8'\u001b[0m\u001b[1;33m)\u001b[0m\u001b[1;33m)\u001b[0m\u001b[1;33m\u001b[0m\u001b[1;33m\u001b[0m\u001b[0m\n\u001b[0m\u001b[0;32m    111\u001b[0m \u001b[1;33m\u001b[0m\u001b[0m\n\u001b[0;32m    112\u001b[0m \u001b[1;33m\u001b[0m\u001b[0m\n",
      "\u001b[1;31mLightGBMError\u001b[0m: Unknown format of training data."
     ]
    }
   ],
   "source": [
    "bulk_predictions = deepface_ensemble.predict(\"Test_img/demo1.jpg\")\n",
    "print(bulk_predictions)"
   ]
  },
  {
   "cell_type": "code",
   "execution_count": null,
   "id": "japanese-evans",
   "metadata": {},
   "outputs": [],
   "source": [
    "demo = lgb.Booster(model_file= 'Train/face-recognition-ensemble-model.txt')\n"
   ]
  },
  {
   "cell_type": "code",
   "execution_count": null,
   "id": "useful-socket",
   "metadata": {},
   "outputs": [],
   "source": [
    "demo.predict(x_test)"
   ]
  },
  {
   "cell_type": "code",
   "execution_count": null,
   "id": "positive-avenue",
   "metadata": {
    "pycharm": {
     "name": "#%%\n"
    }
   },
   "outputs": [],
   "source": [
    "x_test"
   ]
  },
  {
   "cell_type": "code",
   "execution_count": 47,
   "id": "binary-dependence",
   "metadata": {},
   "outputs": [
    {
     "data": {
      "text/plain": [
       "array([[  0.2895,   0.4785,   0.7609, ...,   0.396 ,  83.0607,   0.89  ],\n",
       "       [  0.261 ,   0.5256,   0.7225, ...,   0.4293,  91.0298,   0.9266],\n",
       "       [  0.3693,   0.5743,   0.8594, ...,   0.5211, 105.4701,   1.0209],\n",
       "       ...,\n",
       "       [  0.1473,   0.4886,   0.5428, ...,   0.3248,  89.1159,   0.806 ],\n",
       "       [  0.4308,   0.7894,   0.9282, ...,   0.6753, 111.7199,   1.1622],\n",
       "       [  0.2076,   0.4764,   0.6444, ...,   0.3042,  81.149 ,   0.78  ]])"
      ]
     },
     "execution_count": 47,
     "metadata": {},
     "output_type": "execute_result"
    }
   ],
   "source": []
  },
  {
   "cell_type": "code",
   "execution_count": null,
   "id": "recorded-fourth",
   "metadata": {},
   "outputs": [],
   "source": []
  }
 ],
 "metadata": {
  "kernelspec": {
   "display_name": "Python 3",
   "language": "python",
   "name": "python3"
  },
  "language_info": {
   "codemirror_mode": {
    "name": "ipython",
    "version": 3
   },
   "file_extension": ".py",
   "mimetype": "text/x-python",
   "name": "python",
   "nbconvert_exporter": "python",
   "pygments_lexer": "ipython3",
   "version": "3.8.8"
  }
 },
 "nbformat": 4,
 "nbformat_minor": 5
}
