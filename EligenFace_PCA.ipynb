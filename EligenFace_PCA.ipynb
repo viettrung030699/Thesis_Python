{
 "cells": [
  {
   "cell_type": "code",
   "execution_count": 68,
   "id": "freelance-relations",
   "metadata": {},
   "outputs": [],
   "source": [
    "import numpy as np\n",
    "import pandas as pd\n",
    "import matplotlib.pyplot as plt\n",
    "%matplotlib inline\n",
    "from PIL import Image\n",
    "from glob import glob"
   ]
  },
  {
   "cell_type": "code",
   "execution_count": 69,
   "id": "primary-sailing",
   "metadata": {},
   "outputs": [],
   "source": [
    "# Load numpy zip\n",
    "data = np.load('Dataset/data_1000_norm.npz',allow_pickle=True)"
   ]
  },
  {
   "cell_type": "code",
   "execution_count": 70,
   "id": "retained-brook",
   "metadata": {},
   "outputs": [],
   "source": [
    "X = data['arr_0'] # independent features\n",
    "y = data['arr_1'] # target values"
   ]
  },
  {
   "cell_type": "code",
   "execution_count": 71,
   "id": "civic-taylor",
   "metadata": {},
   "outputs": [
    {
     "data": {
      "text/plain": [
       "((440, 10000), (440,))"
      ]
     },
     "execution_count": 71,
     "metadata": {},
     "output_type": "execute_result"
    }
   ],
   "source": [
    "X.shape, y.shape"
   ]
  },
  {
   "cell_type": "markdown",
   "id": "explicit-thesis",
   "metadata": {},
   "source": [
    "# Eigen Image\n"
   ]
  },
  {
   "cell_type": "code",
   "execution_count": 121,
   "id": "appropriate-wagner",
   "metadata": {},
   "outputs": [],
   "source": [
    "X1 = X - X.mean(axis=0)\n"
   ]
  },
  {
   "cell_type": "code",
   "execution_count": 122,
   "id": "wooden-birthday",
   "metadata": {},
   "outputs": [],
   "source": [
    "from sklearn.decomposition import PCA"
   ]
  },
  {
   "cell_type": "code",
   "execution_count": 123,
   "id": "opening-rates",
   "metadata": {},
   "outputs": [],
   "source": [
    "pca = PCA(n_components=None,whiten=True,svd_solver='auto')\n"
   ]
  },
  {
   "cell_type": "code",
   "execution_count": 124,
   "id": "hungry-massage",
   "metadata": {},
   "outputs": [],
   "source": [
    "x_pca = pca.fit_transform(X1)"
   ]
  },
  {
   "cell_type": "code",
   "execution_count": 125,
   "id": "reported-repeat",
   "metadata": {},
   "outputs": [
    {
     "data": {
      "text/plain": [
       "(440, 440)"
      ]
     },
     "execution_count": 125,
     "metadata": {},
     "output_type": "execute_result"
    }
   ],
   "source": [
    "x_pca.shape"
   ]
  },
  {
   "cell_type": "code",
   "execution_count": 77,
   "id": "south-diagram",
   "metadata": {},
   "outputs": [],
   "source": [
    "eigen_ratio = pca.explained_variance_ratio_\n",
    "eigen_ratio_cum = np.cumsum(eigen_ratio)"
   ]
  },
  {
   "cell_type": "code",
   "execution_count": 97,
   "id": "colored-sherman",
   "metadata": {},
   "outputs": [
    {
     "data": {
      "image/png": "[encoded data removed]",
      "text/plain": [
       "<Figure size 720x288 with 2 Axes>"
      ]
     },
     "metadata": {
      "needs_background": "light"
     },
     "output_type": "display_data"
    }
   ],
   "source": [
    "plt.figure(figsize=(10,4))\n",
    "plt.subplot(1,2,1)\n",
    "plt.plot(eigen_ratio[:200], 'r>--')\n",
    "plt.xlabel('no. of components')\n",
    "plt.ylabel('Explained Variance ratio')\n",
    "\n",
    "plt.subplot(1,2,2)\n",
    "\n",
    "plt.plot(eigen_ratio_cum[:200], 'r>--')\n",
    "plt.xlabel('no. of components')\n",
    "plt.ylabel('Cumulative Explained Variance ratio')\n",
    "plt.axhline(y = 0.9, color='k', linestyle='--', label = '95% Explained Variance')\n",
    "\n",
    "plt.show()"
   ]
  },
  {
   "cell_type": "markdown",
   "id": "designing-madison",
   "metadata": {},
   "source": [
    "- Fig 1. Consider 1 component will give the 20% - 17.5% - 12.5% Explained variance ratio => Then n components will give the approximately 0%\n",
    "- Fig 2. Consider 2 component nearly 40%mm 50 components nearly 80%\n",
    "Conclusion: using elbow method, consider number of component is between 25 and 30 \n",
    "> Since if I consider component between 25 to 30 the explained variance is around 75% so, in order to get min 80% variance I am considering 50 components. "
   ]
  },
  {
   "cell_type": "code",
   "execution_count": 126,
   "id": "primary-gabriel",
   "metadata": {},
   "outputs": [],
   "source": [
    "pca_50 = PCA(n_components=150,whiten=True)\n",
    "x_pca_50 = pca_50.fit_transform(X1)\n",
    "# pca_new = PCA(0.9)\n",
    "# x_pca_50 = pca_new.fit_transform(X1)"
   ]
  },
  {
   "cell_type": "code",
   "execution_count": 127,
   "id": "broadband-database",
   "metadata": {},
   "outputs": [
    {
     "data": {
      "text/plain": [
       "(440, 150)"
      ]
     },
     "execution_count": 127,
     "metadata": {},
     "output_type": "execute_result"
    }
   ],
   "source": [
    "x_pca_50.shape"
   ]
  },
  {
   "cell_type": "code",
   "execution_count": 128,
   "id": "chronic-adelaide",
   "metadata": {},
   "outputs": [],
   "source": [
    "# saving pca\n",
    "import pickle"
   ]
  },
  {
   "cell_type": "code",
   "execution_count": 130,
   "id": "expected-gibson",
   "metadata": {},
   "outputs": [],
   "source": [
    "pickle.dump(pca_50,open('model/pca_50.pickle','wb'))\n",
    "# pickle.dump(pca_new,open('model/pca_50.pickle','wb'))"
   ]
  },
  {
   "cell_type": "code",
   "execution_count": 131,
   "id": "exciting-radio",
   "metadata": {},
   "outputs": [],
   "source": [
    "# consider 50 components and inverse transform\n",
    "x_pca_inv = pca_50.inverse_transform(x_pca_50)\n",
    "# x_pca_inv = pca_new.inverse_transform(x_pca_50)"
   ]
  },
  {
   "cell_type": "code",
   "execution_count": 132,
   "id": "earlier-luther",
   "metadata": {},
   "outputs": [
    {
     "data": {
      "text/plain": [
       "(440, 10000)"
      ]
     },
     "execution_count": 132,
     "metadata": {},
     "output_type": "execute_result"
    }
   ],
   "source": [
    "x_pca_inv.shape"
   ]
  },
  {
   "cell_type": "code",
   "execution_count": 133,
   "id": "hungry-daisy",
   "metadata": {},
   "outputs": [
    {
     "data": {
      "text/plain": [
       "<matplotlib.image.AxesImage at 0x1e60a9ef7f0>"
      ]
     },
     "execution_count": 133,
     "metadata": {},
     "output_type": "execute_result"
    },
    {
     "data": {
      "image/png": "[encoded data removed]",
      "text/plain": [
       "<Figure size 432x288 with 1 Axes>"
      ]
     },
     "metadata": {
      "needs_background": "light"
     },
     "output_type": "display_data"
    }
   ],
   "source": [
    "# consider 1 image\n",
    "eig_img = x_pca_inv[0,:]\n",
    "eig_img = eig_img.reshape((100,100))\n",
    "plt.imshow(eig_img,cmap='gray')"
   ]
  },
  {
   "cell_type": "code",
   "execution_count": 134,
   "id": "authentic-arlington",
   "metadata": {},
   "outputs": [
    {
     "data": {
      "text/plain": [
       "array([1, 1, 1, 1, 1, 1, 1, 1, 1, 1, 1, 1, 1, 1, 1, 1, 1, 1, 1, 1, 1, 1,\n",
       "       1, 1, 1, 1, 1, 1, 1, 1, 1, 1, 1, 1, 1, 1, 1, 1, 1, 1, 1, 1, 1, 1,\n",
       "       2, 2, 2, 2, 2, 2, 2, 2, 2, 2, 2, 2, 2, 2, 2, 2, 2, 2, 2, 2, 2, 2,\n",
       "       2, 2, 2, 2, 2, 2, 2, 2, 2, 2, 2, 2, 2, 2, 2, 2, 2, 2, 2, 2, 2, 2,\n",
       "       3, 3, 3, 3, 3, 3, 3, 3, 3, 3, 3, 3, 3, 3, 3, 3, 3, 3, 3, 3, 3, 3,\n",
       "       3, 3, 3, 3, 3, 3, 3, 3, 3, 3, 3, 3, 3, 3, 3, 3, 3, 3, 3, 3, 3, 3,\n",
       "       4, 4, 4, 4, 4, 4, 4, 4, 4, 4, 4, 4, 4, 4, 4, 4, 4, 4, 4, 4, 4, 4,\n",
       "       4, 4, 4, 4, 4, 4, 4, 4, 4, 4, 4, 4, 4, 4, 4, 4, 4, 4, 4, 4, 4, 4,\n",
       "       5, 5, 5, 5, 5, 5, 5, 5, 5, 5, 5, 5, 5, 5, 5, 5, 5, 5, 5, 5, 5, 5,\n",
       "       5, 5, 5, 5, 5, 5, 5, 5, 5, 5, 5, 5, 5, 5, 5, 5, 5, 5, 5, 5, 5, 5,\n",
       "       6, 6, 6, 6, 6, 6, 6, 6, 6, 6, 6, 6, 6, 6, 6, 6, 6, 6, 6, 6, 6, 6,\n",
       "       6, 6, 6, 6, 6, 6, 6, 6, 6, 6, 6, 6, 6, 6, 6, 6, 6, 6, 6, 6, 6, 6,\n",
       "       7, 7, 7, 7, 7, 7, 7, 7, 7, 7, 7, 7, 7, 7, 7, 7, 7, 7, 7, 7, 7, 7,\n",
       "       7, 7, 7, 7, 7, 7, 7, 7, 7, 7, 7, 7, 7, 7, 7, 7, 7, 7, 7, 7, 7, 7,\n",
       "       8, 8, 8, 8, 8, 8, 8, 8, 8, 8, 8, 8, 8, 8, 8, 8, 8, 8, 8, 8, 8, 8,\n",
       "       8, 8, 8, 8, 8, 8, 8, 8, 8, 8, 8, 8, 8, 8, 8, 8, 8, 8, 8, 8, 8, 8,\n",
       "       9, 9, 9, 9, 9, 9, 9, 9, 9, 9, 9, 9, 9, 9, 9, 9, 9, 9, 9, 9, 9, 9,\n",
       "       9, 9, 9, 9, 9, 9, 9, 9, 9, 9, 9, 9, 9, 9, 9, 9, 9, 9, 9, 9, 9, 9,\n",
       "       10, 10, 10, 10, 10, 10, 10, 10, 10, 10, 10, 10, 10, 10, 10, 10, 10,\n",
       "       10, 10, 10, 10, 10, 10, 10, 10, 10, 10, 10, 10, 10, 10, 10, 10, 10,\n",
       "       10, 10, 10, 10, 10, 10, 10, 10, 10, 10], dtype=object)"
      ]
     },
     "execution_count": 134,
     "metadata": {},
     "output_type": "execute_result"
    }
   ],
   "source": [
    "y"
   ]
  },
  {
   "cell_type": "code",
   "execution_count": 135,
   "id": "integrated-thirty",
   "metadata": {},
   "outputs": [],
   "source": [
    "# saving\n",
    "np.savez('Dataset/data_pca_50_y_mean.pickle',x_pca_50,y,X.mean())"
   ]
  },
  {
   "cell_type": "code",
   "execution_count": 40,
   "id": "occupational-strengthening",
   "metadata": {},
   "outputs": [],
   "source": []
  }
 ],
 "metadata": {
  "kernelspec": {
   "display_name": "Python 3",
   "language": "python",
   "name": "python3"
  },
  "language_info": {
   "codemirror_mode": {
    "name": "ipython",
    "version": 3
   },
   "file_extension": ".py",
   "mimetype": "text/x-python",
   "name": "python",
   "nbconvert_exporter": "python",
   "pygments_lexer": "ipython3",
   "version": "3.8.8"
  }
 },
 "nbformat": 4,
 "nbformat_minor": 5
}