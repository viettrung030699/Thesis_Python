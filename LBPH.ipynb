{
 "cells": [
  {
   "cell_type": "code",
   "execution_count": 1,
   "id": "talented-payroll",
   "metadata": {},
   "outputs": [],
   "source": [
    "import os\n",
    "import cv2\n",
    "import numpy as np"
   ]
  },
  {
   "cell_type": "code",
   "execution_count": 2,
   "id": "adequate-designer",
   "metadata": {},
   "outputs": [],
   "source": [
    "from PIL import Image\n"
   ]
  },
  {
   "cell_type": "code",
   "execution_count": 3,
   "id": "common-messenger",
   "metadata": {},
   "outputs": [],
   "source": [
    "#Initialize names and path to empty list \n",
    "names = []\n",
    "paths = []"
   ]
  },
  {
   "cell_type": "code",
   "execution_count": 4,
   "id": "suitable-bennett",
   "metadata": {},
   "outputs": [],
   "source": [
    "# for users in os.listdir(\"Dataset/processed_number/trainning_set\"):\n",
    "#     names.append(users)\n",
    "# print(names)"
   ]
  },
  {
   "cell_type": "code",
   "execution_count": 5,
   "id": "opposed-linux",
   "metadata": {},
   "outputs": [
    {
     "name": "stdout",
     "output_type": "stream",
     "text": [
      "['BAFNIU17003', 'BAFNIU17091', 'ITITIU17067', 'ITITIU17073', 'ITITIU17086', 'ITITIU17096', 'ITITIU17097', 'ITITIU17098']\n"
     ]
    }
   ],
   "source": [
    "for users in os.listdir(\"Dataset/IU_student_processed\"):\n",
    "    names.append(users)\n",
    "print(names)"
   ]
  },
  {
   "cell_type": "code",
   "execution_count": 6,
   "id": "pointed-converter",
   "metadata": {},
   "outputs": [],
   "source": [
    "# # Get the path to all the images\n",
    "# for name in names:\n",
    "#     for image in os.listdir(\"Dataset/processed_number/trainning_set/{}\".format(name)):\n",
    "#         path_string = os.path.join(\"Dataset/processed_number/trainning_set/{}\".format(name), image)\n",
    "#         paths.append(path_string)\n"
   ]
  },
  {
   "cell_type": "code",
   "execution_count": 7,
   "id": "adverse-thriller",
   "metadata": {},
   "outputs": [],
   "source": [
    "# Get the path to all the images\n",
    "for name in names:\n",
    "    for image in os.listdir(\"Dataset/IU_student_processed/{}\".format(name)):\n",
    "        path_string = os.path.join(\"Dataset/IU_student_processed/{}\".format(name), image)\n",
    "        paths.append(path_string)\n"
   ]
  },
  {
   "cell_type": "code",
   "execution_count": 8,
   "id": "biological-conflict",
   "metadata": {},
   "outputs": [
    {
     "data": {
      "text/plain": [
       "(['BAFNIU17003',\n",
       "  'BAFNIU17091',\n",
       "  'ITITIU17067',\n",
       "  'ITITIU17073',\n",
       "  'ITITIU17086',\n",
       "  'ITITIU17096',\n",
       "  'ITITIU17097',\n",
       "  'ITITIU17098'],\n",
       " ['Dataset/IU_student_processed/BAFNIU17003\\\\1_1.png',\n",
       "  'Dataset/IU_student_processed/BAFNIU17003\\\\1_2.png',\n",
       "  'Dataset/IU_student_processed/BAFNIU17003\\\\1_3.png',\n",
       "  'Dataset/IU_student_processed/BAFNIU17003\\\\1_4.png',\n",
       "  'Dataset/IU_student_processed/BAFNIU17003\\\\1_5.png',\n",
       "  'Dataset/IU_student_processed/BAFNIU17091\\\\2_1.png',\n",
       "  'Dataset/IU_student_processed/BAFNIU17091\\\\2_10.png',\n",
       "  'Dataset/IU_student_processed/BAFNIU17091\\\\2_11.png',\n",
       "  'Dataset/IU_student_processed/BAFNIU17091\\\\2_12.png',\n",
       "  'Dataset/IU_student_processed/BAFNIU17091\\\\2_13.png',\n",
       "  'Dataset/IU_student_processed/BAFNIU17091\\\\2_14.png',\n",
       "  'Dataset/IU_student_processed/BAFNIU17091\\\\2_15.png',\n",
       "  'Dataset/IU_student_processed/BAFNIU17091\\\\2_2.png',\n",
       "  'Dataset/IU_student_processed/BAFNIU17091\\\\2_3.png',\n",
       "  'Dataset/IU_student_processed/BAFNIU17091\\\\2_4.png',\n",
       "  'Dataset/IU_student_processed/BAFNIU17091\\\\2_5.png',\n",
       "  'Dataset/IU_student_processed/BAFNIU17091\\\\2_6.png',\n",
       "  'Dataset/IU_student_processed/BAFNIU17091\\\\2_7.png',\n",
       "  'Dataset/IU_student_processed/BAFNIU17091\\\\2_8.png',\n",
       "  'Dataset/IU_student_processed/BAFNIU17091\\\\2_9.png',\n",
       "  'Dataset/IU_student_processed/ITITIU17067\\\\3_1.png',\n",
       "  'Dataset/IU_student_processed/ITITIU17067\\\\3_10.png',\n",
       "  'Dataset/IU_student_processed/ITITIU17067\\\\3_11.png',\n",
       "  'Dataset/IU_student_processed/ITITIU17067\\\\3_12.png',\n",
       "  'Dataset/IU_student_processed/ITITIU17067\\\\3_13.png',\n",
       "  'Dataset/IU_student_processed/ITITIU17067\\\\3_14.png',\n",
       "  'Dataset/IU_student_processed/ITITIU17067\\\\3_15.png',\n",
       "  'Dataset/IU_student_processed/ITITIU17067\\\\3_2.png',\n",
       "  'Dataset/IU_student_processed/ITITIU17067\\\\3_3.png',\n",
       "  'Dataset/IU_student_processed/ITITIU17067\\\\3_4.png',\n",
       "  'Dataset/IU_student_processed/ITITIU17067\\\\3_5.png',\n",
       "  'Dataset/IU_student_processed/ITITIU17067\\\\3_6.png',\n",
       "  'Dataset/IU_student_processed/ITITIU17067\\\\3_7.png',\n",
       "  'Dataset/IU_student_processed/ITITIU17067\\\\3_8.png',\n",
       "  'Dataset/IU_student_processed/ITITIU17067\\\\3_9.png',\n",
       "  'Dataset/IU_student_processed/ITITIU17073\\\\4_1.png',\n",
       "  'Dataset/IU_student_processed/ITITIU17073\\\\4_10.png',\n",
       "  'Dataset/IU_student_processed/ITITIU17073\\\\4_11.png',\n",
       "  'Dataset/IU_student_processed/ITITIU17073\\\\4_12.png',\n",
       "  'Dataset/IU_student_processed/ITITIU17073\\\\4_2.png',\n",
       "  'Dataset/IU_student_processed/ITITIU17073\\\\4_3.png',\n",
       "  'Dataset/IU_student_processed/ITITIU17073\\\\4_4.png',\n",
       "  'Dataset/IU_student_processed/ITITIU17073\\\\4_5.png',\n",
       "  'Dataset/IU_student_processed/ITITIU17073\\\\4_6.png',\n",
       "  'Dataset/IU_student_processed/ITITIU17073\\\\4_7.png',\n",
       "  'Dataset/IU_student_processed/ITITIU17073\\\\4_8.png',\n",
       "  'Dataset/IU_student_processed/ITITIU17073\\\\4_9.png',\n",
       "  'Dataset/IU_student_processed/ITITIU17086\\\\5_1.png',\n",
       "  'Dataset/IU_student_processed/ITITIU17096\\\\6_1.png',\n",
       "  'Dataset/IU_student_processed/ITITIU17096\\\\6_2.png',\n",
       "  'Dataset/IU_student_processed/ITITIU17097\\\\7_1.png',\n",
       "  'Dataset/IU_student_processed/ITITIU17097\\\\7_2.png',\n",
       "  'Dataset/IU_student_processed/ITITIU17097\\\\7_3.png',\n",
       "  'Dataset/IU_student_processed/ITITIU17097\\\\7_4.png',\n",
       "  'Dataset/IU_student_processed/ITITIU17097\\\\7_5.png',\n",
       "  'Dataset/IU_student_processed/ITITIU17097\\\\7_6.png',\n",
       "  'Dataset/IU_student_processed/ITITIU17098\\\\8_1.png',\n",
       "  'Dataset/IU_student_processed/ITITIU17098\\\\8_10.png',\n",
       "  'Dataset/IU_student_processed/ITITIU17098\\\\8_11.png',\n",
       "  'Dataset/IU_student_processed/ITITIU17098\\\\8_12.png',\n",
       "  'Dataset/IU_student_processed/ITITIU17098\\\\8_13.png',\n",
       "  'Dataset/IU_student_processed/ITITIU17098\\\\8_14.png',\n",
       "  'Dataset/IU_student_processed/ITITIU17098\\\\8_15.png',\n",
       "  'Dataset/IU_student_processed/ITITIU17098\\\\8_16.png',\n",
       "  'Dataset/IU_student_processed/ITITIU17098\\\\8_17.png',\n",
       "  'Dataset/IU_student_processed/ITITIU17098\\\\8_18.png',\n",
       "  'Dataset/IU_student_processed/ITITIU17098\\\\8_19.png',\n",
       "  'Dataset/IU_student_processed/ITITIU17098\\\\8_2.png',\n",
       "  'Dataset/IU_student_processed/ITITIU17098\\\\8_20.png',\n",
       "  'Dataset/IU_student_processed/ITITIU17098\\\\8_3.png',\n",
       "  'Dataset/IU_student_processed/ITITIU17098\\\\8_4.png',\n",
       "  'Dataset/IU_student_processed/ITITIU17098\\\\8_5.png',\n",
       "  'Dataset/IU_student_processed/ITITIU17098\\\\8_6.png',\n",
       "  'Dataset/IU_student_processed/ITITIU17098\\\\8_7.png',\n",
       "  'Dataset/IU_student_processed/ITITIU17098\\\\8_8.png',\n",
       "  'Dataset/IU_student_processed/ITITIU17098\\\\8_9.png'])"
      ]
     },
     "execution_count": 8,
     "metadata": {},
     "output_type": "execute_result"
    }
   ],
   "source": [
    "names, paths"
   ]
  },
  {
   "cell_type": "code",
   "execution_count": 9,
   "id": "public-fruit",
   "metadata": {},
   "outputs": [],
   "source": [
    "faces = []\n",
    "ids = []"
   ]
  },
  {
   "cell_type": "code",
   "execution_count": 10,
   "id": "located-defendant",
   "metadata": {},
   "outputs": [],
   "source": [
    "# For each image create a numpy array and add it to faces list\n",
    "for img_path in paths:\n",
    "    image = Image.open(img_path).convert(\"L\")\n",
    "\n",
    "    imgNp = np.array(image, \"uint8\")\n",
    "\n",
    "#     id = int(img_path.split(\"\\\\\")[3].split(\"_\")[0])\n",
    "\n",
    "    id = int(img_path.split(\"\\\\\")[1].split(\"_\")[0])\n",
    "#     id = img_path.split(\"\\\\\")[1].split(\"_\")[0]\n",
    "\n",
    "#     print(id)\n",
    "#     print(imgNp)\n",
    "    faces.append(imgNp)\n",
    "    ids.append(id)\n"
   ]
  },
  {
   "cell_type": "code",
   "execution_count": 11,
   "id": "aware-range",
   "metadata": {},
   "outputs": [],
   "source": [
    "ids = np.array(ids)"
   ]
  },
  {
   "cell_type": "code",
   "execution_count": 12,
   "id": "relative-wholesale",
   "metadata": {},
   "outputs": [
    {
     "data": {
      "text/plain": [
       "((76,), (76, 221, 221))"
      ]
     },
     "execution_count": 12,
     "metadata": {},
     "output_type": "execute_result"
    }
   ],
   "source": [
    "np.shape(ids), np.shape(faces)"
   ]
  },
  {
   "cell_type": "code",
   "execution_count": 13,
   "id": "mighty-leather",
   "metadata": {},
   "outputs": [
    {
     "name": "stdout",
     "output_type": "stream",
     "text": [
      "[INFO] Training Done in %s 2.488494396209717\n"
     ]
    }
   ],
   "source": [
    "# import time\n",
    "\n",
    "# # Call the recognizer\n",
    "# trainer = cv2.face.LBPHFaceRecognizer_create()\n",
    "# # Give the faces and ids numpy arrays\n",
    "# start_time = time.time()\n",
    "# trainer.train(faces, ids)\n",
    "# end_time = time.time()\n",
    "# # Write the generated model to a yml file\n",
    "# trainer.write(\"Train/training_set_test.yml\")\n",
    "\n",
    "# print(\"[INFO] Training Done in %s\", end_time - start_time)"
   ]
  },
  {
   "cell_type": "code",
   "execution_count": 13,
   "id": "understood-narrative",
   "metadata": {},
   "outputs": [
    {
     "data": {
      "text/plain": [
       "array([1, 1, 1, 1, 1, 2, 2, 2, 2, 2, 2, 2, 2, 2, 2, 2, 2, 2, 2, 2, 3, 3,\n",
       "       3, 3, 3, 3, 3, 3, 3, 3, 3, 3, 3, 3, 3, 4, 4, 4, 4, 4, 4, 4, 4, 4,\n",
       "       4, 4, 4, 5, 6, 6, 7, 7, 7, 7, 7, 7, 8, 8, 8, 8, 8, 8, 8, 8, 8, 8,\n",
       "       8, 8, 8, 8, 8, 8, 8, 8, 8, 8])"
      ]
     },
     "execution_count": 13,
     "metadata": {},
     "output_type": "execute_result"
    }
   ],
   "source": [
    "ids"
   ]
  },
  {
   "cell_type": "code",
   "execution_count": 14,
   "id": "discrete-mexican",
   "metadata": {},
   "outputs": [
    {
     "name": "stdout",
     "output_type": "stream",
     "text": [
      "[INFO] Training Done in %s 0.9039974212646484\n"
     ]
    }
   ],
   "source": [
    "import time\n",
    "\n",
    "# Call the recognizer\n",
    "trainer = cv2.face.LBPHFaceRecognizer_create()\n",
    "# Give the faces and ids numpy arrays\n",
    "start_time = time.time()\n",
    "trainer.train(faces, ids)\n",
    "end_time = time.time()\n",
    "# Write the generated model to a yml file\n",
    "trainer.write(\"Train/IU_student_LBPH_final.yml\")\n",
    "\n",
    "print(\"[INFO] Training Done in %s\", end_time - start_time)"
   ]
  },
  {
   "cell_type": "code",
   "execution_count": 12,
   "id": "protective-semester",
   "metadata": {},
   "outputs": [
    {
     "name": "stdout",
     "output_type": "stream",
     "text": [
      "[INFO] Training Done\n"
     ]
    }
   ],
   "source": []
  },
  {
   "cell_type": "code",
   "execution_count": 14,
   "id": "palestinian-think",
   "metadata": {},
   "outputs": [
    {
     "data": {
      "text/plain": [
       "()"
      ]
     },
     "execution_count": 14,
     "metadata": {},
     "output_type": "execute_result"
    }
   ],
   "source": []
  },
  {
   "cell_type": "code",
   "execution_count": null,
   "id": "established-mechanism",
   "metadata": {},
   "outputs": [],
   "source": []
  }
 ],
 "metadata": {
  "kernelspec": {
   "display_name": "Python 3",
   "language": "python",
   "name": "python3"
  },
  "language_info": {
   "codemirror_mode": {
    "name": "ipython",
    "version": 3
   },
   "file_extension": ".py",
   "mimetype": "text/x-python",
   "name": "python",
   "nbconvert_exporter": "python",
   "pygments_lexer": "ipython3",
   "version": "3.8.8"
  }
 },
 "nbformat": 4,
 "nbformat_minor": 5
}
