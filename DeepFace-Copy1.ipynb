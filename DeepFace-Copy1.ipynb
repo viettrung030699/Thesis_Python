{
 "cells": [
  {
   "cell_type": "code",
   "execution_count": 1,
   "id": "federal-surrey",
   "metadata": {
    "pycharm": {
     "name": "#%%\n"
    }
   },
   "outputs": [],
   "source": [
    "import pandas as pd\n",
    "import numpy as np\n",
    "import itertools\n",
    "from sklearn.metrics import confusion_matrix,accuracy_score, roc_curve, auc\n",
    "import matplotlib.pyplot as plt\n",
    "from tqdm import tqdm\n",
    "tqdm.pandas()"
   ]
  },
  {
   "cell_type": "code",
   "execution_count": 2,
   "id": "responsible-nowhere",
   "metadata": {
    "pycharm": {
     "name": "#%%\n"
    }
   },
   "outputs": [],
   "source": [
    "idendities = {\n",
    "  \"ITITIU17098\": [],\n",
    "  \"ITITIU17097\": [],\n",
    "  \"ITITIU17096\": [],\n",
    "  \"ITITIU17086\": [],\n",
    "  \"ITITIU17073\": [],\n",
    "  \"ITITIU17067\": [],\n",
    "  \"BAFNIU17003\": [],\n",
    "  \"BAFNIU17091\": []\n",
    "}"
   ]
  },
  {
   "cell_type": "code",
   "execution_count": 3,
   "id": "collaborative-birthday",
   "metadata": {
    "pycharm": {
     "name": "#%%\n"
    }
   },
   "outputs": [],
   "source": [
    "import os\n",
    "from PIL import Image\n",
    "\n",
    "for key, values in idendities.items():\n",
    "    # Get the path to all the images\n",
    "        for image in os.listdir(\"Dataset/IU_student/{}\".format(key)):\n",
    "            path_string = os.path.join(\"Dataset/IU_student/{}\".format(key), image)\n",
    "            image = Image.open(path_string)\n",
    "            imgNp = np.array(image, \"uint8\")\n",
    "            values.append(imgNp)\n"
   ]
  },
  {
   "cell_type": "code",
   "execution_count": 4,
   "id": "physical-columbia",
   "metadata": {
    "pycharm": {
     "name": "#%%\n"
    }
   },
   "outputs": [
    {
     "data": {
      "text/plain": [
       "[array([[[167, 161, 147],\n",
       "         [166, 160, 146],\n",
       "         [166, 160, 146],\n",
       "         ...,\n",
       "         [255, 255, 255],\n",
       "         [255, 255, 255],\n",
       "         [255, 255, 255]],\n",
       " \n",
       "        [[167, 161, 147],\n",
       "         [167, 161, 147],\n",
       "         [166, 160, 146],\n",
       "         ...,\n",
       "         [255, 255, 255],\n",
       "         [255, 255, 255],\n",
       "         [255, 255, 255]],\n",
       " \n",
       "        [[167, 161, 147],\n",
       "         [167, 161, 147],\n",
       "         [166, 160, 148],\n",
       "         ...,\n",
       "         [255, 255, 255],\n",
       "         [255, 255, 255],\n",
       "         [255, 255, 255]],\n",
       " \n",
       "        ...,\n",
       " \n",
       "        [[111,  91,  80],\n",
       "         [111,  91,  80],\n",
       "         [114,  92,  81],\n",
       "         ...,\n",
       "         [166, 144, 130],\n",
       "         [166, 144, 130],\n",
       "         [166, 144, 130]],\n",
       " \n",
       "        [[111,  91,  80],\n",
       "         [111,  91,  80],\n",
       "         [114,  92,  79],\n",
       "         ...,\n",
       "         [166, 144, 130],\n",
       "         [166, 144, 130],\n",
       "         [166, 144, 130]],\n",
       " \n",
       "        [[111,  91,  80],\n",
       "         [111,  91,  80],\n",
       "         [114,  92,  79],\n",
       "         ...,\n",
       "         [166, 144, 130],\n",
       "         [165, 143, 129],\n",
       "         [165, 143, 129]]], dtype=uint8),\n",
       " array([[[175, 170, 164],\n",
       "         [171, 166, 160],\n",
       "         [178, 173, 167],\n",
       "         ...,\n",
       "         [184, 174, 172],\n",
       "         [189, 179, 177],\n",
       "         [172, 162, 160]],\n",
       " \n",
       "        [[177, 172, 166],\n",
       "         [177, 172, 166],\n",
       "         [180, 175, 169],\n",
       "         ...,\n",
       "         [177, 167, 165],\n",
       "         [185, 175, 173],\n",
       "         [172, 162, 160]],\n",
       " \n",
       "        [[178, 173, 167],\n",
       "         [182, 177, 171],\n",
       "         [182, 177, 171],\n",
       "         ...,\n",
       "         [176, 166, 164],\n",
       "         [184, 174, 172],\n",
       "         [176, 166, 164]],\n",
       " \n",
       "        ...,\n",
       " \n",
       "        [[175, 165, 163],\n",
       "         [174, 164, 162],\n",
       "         [177, 167, 165],\n",
       "         ...,\n",
       "         [173, 164, 159],\n",
       "         [173, 164, 159],\n",
       "         [171, 162, 157]],\n",
       " \n",
       "        [[170, 160, 158],\n",
       "         [171, 161, 159],\n",
       "         [174, 164, 162],\n",
       "         ...,\n",
       "         [176, 167, 162],\n",
       "         [176, 167, 162],\n",
       "         [174, 165, 160]],\n",
       " \n",
       "        [[172, 162, 160],\n",
       "         [173, 163, 161],\n",
       "         [177, 167, 165],\n",
       "         ...,\n",
       "         [178, 169, 164],\n",
       "         [178, 169, 164],\n",
       "         [175, 166, 161]]], dtype=uint8),\n",
       " array([[[181, 172, 165],\n",
       "         [176, 167, 160],\n",
       "         [180, 171, 164],\n",
       "         ...,\n",
       "         [174, 164, 162],\n",
       "         [176, 166, 164],\n",
       "         [177, 167, 165]],\n",
       " \n",
       "        [[181, 172, 165],\n",
       "         [179, 170, 163],\n",
       "         [181, 172, 165],\n",
       "         ...,\n",
       "         [176, 166, 164],\n",
       "         [175, 165, 163],\n",
       "         [174, 164, 162]],\n",
       " \n",
       "        [[179, 170, 165],\n",
       "         [182, 173, 168],\n",
       "         [181, 172, 167],\n",
       "         ...,\n",
       "         [176, 166, 164],\n",
       "         [175, 165, 163],\n",
       "         [174, 164, 162]],\n",
       " \n",
       "        ...,\n",
       " \n",
       "        [[172, 168, 159],\n",
       "         [169, 165, 156],\n",
       "         [172, 165, 157],\n",
       "         ...,\n",
       "         [172, 163, 158],\n",
       "         [173, 164, 159],\n",
       "         [176, 167, 162]],\n",
       " \n",
       "        [[180, 176, 167],\n",
       "         [171, 167, 158],\n",
       "         [168, 161, 153],\n",
       "         ...,\n",
       "         [168, 159, 154],\n",
       "         [169, 160, 155],\n",
       "         [173, 164, 159]],\n",
       " \n",
       "        [[174, 170, 161],\n",
       "         [163, 159, 150],\n",
       "         [158, 151, 143],\n",
       "         ...,\n",
       "         [167, 158, 153],\n",
       "         [166, 157, 152],\n",
       "         [167, 158, 153]]], dtype=uint8),\n",
       " array([[[170, 159, 163],\n",
       "         [172, 161, 165],\n",
       "         [174, 163, 167],\n",
       "         ...,\n",
       "         [203, 197, 199],\n",
       "         [203, 197, 199],\n",
       "         [203, 197, 199]],\n",
       " \n",
       "        [[170, 159, 163],\n",
       "         [172, 161, 165],\n",
       "         [174, 163, 167],\n",
       "         ...,\n",
       "         [203, 197, 199],\n",
       "         [203, 197, 199],\n",
       "         [203, 197, 199]],\n",
       " \n",
       "        [[170, 159, 163],\n",
       "         [172, 161, 165],\n",
       "         [174, 163, 167],\n",
       "         ...,\n",
       "         [203, 197, 199],\n",
       "         [203, 197, 199],\n",
       "         [203, 197, 199]],\n",
       " \n",
       "        ...,\n",
       " \n",
       "        [[176, 167, 172],\n",
       "         [176, 167, 172],\n",
       "         [176, 167, 172],\n",
       "         ...,\n",
       "         [105,  88,  80],\n",
       "         [105,  88,  80],\n",
       "         [105,  88,  80]],\n",
       " \n",
       "        [[176, 167, 172],\n",
       "         [176, 167, 172],\n",
       "         [176, 167, 172],\n",
       "         ...,\n",
       "         [105,  88,  80],\n",
       "         [105,  88,  80],\n",
       "         [105,  88,  80]],\n",
       " \n",
       "        [[176, 167, 172],\n",
       "         [176, 167, 172],\n",
       "         [176, 167, 172],\n",
       "         ...,\n",
       "         [105,  88,  80],\n",
       "         [105,  88,  80],\n",
       "         [105,  88,  80]]], dtype=uint8),\n",
       " array([[[255, 255, 255],\n",
       "         [255, 255, 255],\n",
       "         [255, 255, 255],\n",
       "         ...,\n",
       "         [254, 254, 254],\n",
       "         [254, 254, 254],\n",
       "         [254, 254, 254]],\n",
       " \n",
       "        [[255, 255, 255],\n",
       "         [255, 255, 255],\n",
       "         [255, 255, 255],\n",
       "         ...,\n",
       "         [254, 254, 254],\n",
       "         [254, 254, 254],\n",
       "         [254, 254, 254]],\n",
       " \n",
       "        [[255, 255, 255],\n",
       "         [255, 255, 255],\n",
       "         [255, 255, 255],\n",
       "         ...,\n",
       "         [254, 254, 254],\n",
       "         [254, 254, 254],\n",
       "         [254, 254, 254]],\n",
       " \n",
       "        ...,\n",
       " \n",
       "        [[245, 144, 162],\n",
       "         [238, 141, 160],\n",
       "         [244, 155, 173],\n",
       "         ...,\n",
       "         [235, 195, 203],\n",
       "         [232, 176, 187],\n",
       "         [255, 193, 207]],\n",
       " \n",
       "        [[243, 140, 159],\n",
       "         [243, 144, 164],\n",
       "         [235, 144, 162],\n",
       "         ...,\n",
       "         [234, 188, 198],\n",
       "         [229, 167, 180],\n",
       "         [254, 183, 199]],\n",
       " \n",
       "        [[254, 155, 173],\n",
       "         [238, 141, 160],\n",
       "         [228, 133, 153],\n",
       "         ...,\n",
       "         [233, 183, 194],\n",
       "         [228, 164, 178],\n",
       "         [255, 187, 204]]], dtype=uint8)]"
      ]
     },
     "execution_count": 4,
     "metadata": {},
     "output_type": "execute_result"
    }
   ],
   "source": [
    "idendities[\"BAFNIU17003\"]"
   ]
  },
  {
   "cell_type": "markdown",
   "id": "treated-webmaster",
   "metadata": {},
   "source": [
    "<h1>Positive samples<h1>\n",
    "Find different photos of same people\n"
   ]
  },
  {
   "cell_type": "code",
   "execution_count": 5,
   "id": "cordless-electricity",
   "metadata": {
    "pycharm": {
     "name": "#%%\n"
    }
   },
   "outputs": [],
   "source": [
    "positives = []\n",
    "\n",
    "for key, values in idendities.items():\n",
    "    \n",
    "    #print(key)\n",
    "    for i in range(0, len(values)-1):\n",
    "        for j in range(i+1, len(values)):\n",
    "            #print(values[i], \" and \", values[j])\n",
    "            positive = []\n",
    "            positive.append(values[i])\n",
    "            positive.append(values[j])\n",
    "            positives.append(positive)"
   ]
  },
  {
   "cell_type": "code",
   "execution_count": 6,
   "id": "electoral-affect",
   "metadata": {
    "pycharm": {
     "name": "#%%\n"
    }
   },
   "outputs": [],
   "source": [
    "positives = pd.DataFrame(positives, columns = [\"file_x\", \"file_y\"])\n",
    "positives[\"decision\"] = \"Yes\""
   ]
  },
  {
   "cell_type": "code",
   "execution_count": 7,
   "id": "adopted-criterion",
   "metadata": {
    "pycharm": {
     "name": "#%%\n"
    }
   },
   "outputs": [
    {
     "data": {
      "text/plain": [
       "(548, 3)"
      ]
     },
     "execution_count": 7,
     "metadata": {},
     "output_type": "execute_result"
    }
   ],
   "source": [
    "positives.shape\n"
   ]
  },
  {
   "cell_type": "code",
   "execution_count": 8,
   "id": "random-place",
   "metadata": {},
   "outputs": [
    {
     "data": {
      "text/html": [
       "<div>\n",
       "<style scoped>\n",
       "    .dataframe tbody tr th:only-of-type {\n",
       "        vertical-align: middle;\n",
       "    }\n",
       "\n",
       "    .dataframe tbody tr th {\n",
       "        vertical-align: top;\n",
       "    }\n",
       "\n",
       "    .dataframe thead th {\n",
       "        text-align: right;\n",
       "    }\n",
       "</style>\n",
       "<table border=\"1\" class=\"dataframe\">\n",
       "  <thead>\n",
       "    <tr style=\"text-align: right;\">\n",
       "      <th></th>\n",
       "      <th>file_x</th>\n",
       "      <th>file_y</th>\n",
       "      <th>decision</th>\n",
       "    </tr>\n",
       "  </thead>\n",
       "  <tbody>\n",
       "    <tr>\n",
       "      <th>0</th>\n",
       "      <td>[[[254, 254, 254], [254, 254, 254], [254, 254,...</td>\n",
       "      <td>[[[116, 124, 126], [117, 125, 127], [115, 123,...</td>\n",
       "      <td>Yes</td>\n",
       "    </tr>\n",
       "    <tr>\n",
       "      <th>1</th>\n",
       "      <td>[[[254, 254, 254], [254, 254, 254], [254, 254,...</td>\n",
       "      <td>[[[79, 87, 90], [83, 91, 94], [83, 91, 94], [8...</td>\n",
       "      <td>Yes</td>\n",
       "    </tr>\n",
       "    <tr>\n",
       "      <th>2</th>\n",
       "      <td>[[[254, 254, 254], [254, 254, 254], [254, 254,...</td>\n",
       "      <td>[[[78, 86, 89], [81, 89, 92], [81, 89, 92], [8...</td>\n",
       "      <td>Yes</td>\n",
       "    </tr>\n",
       "    <tr>\n",
       "      <th>3</th>\n",
       "      <td>[[[254, 254, 254], [254, 254, 254], [254, 254,...</td>\n",
       "      <td>[[[83, 89, 89], [81, 87, 87], [79, 85, 85], [7...</td>\n",
       "      <td>Yes</td>\n",
       "    </tr>\n",
       "    <tr>\n",
       "      <th>4</th>\n",
       "      <td>[[[254, 254, 254], [254, 254, 254], [254, 254,...</td>\n",
       "      <td>[[[91, 99, 102], [88, 96, 99], [84, 92, 95], [...</td>\n",
       "      <td>Yes</td>\n",
       "    </tr>\n",
       "  </tbody>\n",
       "</table>\n",
       "</div>"
      ],
      "text/plain": [
       "                                              file_x  \\\n",
       "0  [[[254, 254, 254], [254, 254, 254], [254, 254,...   \n",
       "1  [[[254, 254, 254], [254, 254, 254], [254, 254,...   \n",
       "2  [[[254, 254, 254], [254, 254, 254], [254, 254,...   \n",
       "3  [[[254, 254, 254], [254, 254, 254], [254, 254,...   \n",
       "4  [[[254, 254, 254], [254, 254, 254], [254, 254,...   \n",
       "\n",
       "                                              file_y decision  \n",
       "0  [[[116, 124, 126], [117, 125, 127], [115, 123,...      Yes  \n",
       "1  [[[79, 87, 90], [83, 91, 94], [83, 91, 94], [8...      Yes  \n",
       "2  [[[78, 86, 89], [81, 89, 92], [81, 89, 92], [8...      Yes  \n",
       "3  [[[83, 89, 89], [81, 87, 87], [79, 85, 85], [7...      Yes  \n",
       "4  [[[91, 99, 102], [88, 96, 99], [84, 92, 95], [...      Yes  "
      ]
     },
     "execution_count": 8,
     "metadata": {},
     "output_type": "execute_result"
    }
   ],
   "source": [
    "positives.head()"
   ]
  },
  {
   "cell_type": "markdown",
   "id": "approximate-coral",
   "metadata": {},
   "source": [
    "# Negative samples\n",
    "Compare photos of different people"
   ]
  },
  {
   "cell_type": "code",
   "execution_count": 9,
   "id": "local-engagement",
   "metadata": {
    "pycharm": {
     "name": "#%%\n"
    }
   },
   "outputs": [],
   "source": [
    "samples_list = list(idendities.values())\n"
   ]
  },
  {
   "cell_type": "code",
   "execution_count": 10,
   "id": "international-bracelet",
   "metadata": {
    "pycharm": {
     "name": "#%%\n"
    }
   },
   "outputs": [],
   "source": [
    "negatives = []\n",
    "\n",
    "for i in range(0, len(idendities) - 1):\n",
    "    for j in range(i+1, len(idendities)):\n",
    "        #print(samples_list[i], \" vs \",samples_list[j]) \n",
    "        cross_product = itertools.product(samples_list[i], samples_list[j])\n",
    "        cross_product = list(cross_product)\n",
    "        #print(cross_product)\n",
    "        \n",
    "        for cross_sample in cross_product:\n",
    "            #print(cross_sample[0], \" vs \", cross_sample[1])\n",
    "            negative = []\n",
    "            negative.append(cross_sample[0])\n",
    "            negative.append(cross_sample[1])\n",
    "            negatives.append(negative)"
   ]
  },
  {
   "cell_type": "code",
   "execution_count": 11,
   "id": "collaborative-fitting",
   "metadata": {
    "pycharm": {
     "name": "#%%\n"
    }
   },
   "outputs": [],
   "source": [
    "negatives = pd.DataFrame(negatives, columns = [\"file_x\", \"file_y\"])\n",
    "negatives[\"decision\"] = \"No\""
   ]
  },
  {
   "cell_type": "code",
   "execution_count": 12,
   "id": "average-allowance",
   "metadata": {
    "pycharm": {
     "name": "#%%\n"
    }
   },
   "outputs": [],
   "source": [
    "negatives = negatives.sample(positives.shape[0])\n"
   ]
  },
  {
   "cell_type": "code",
   "execution_count": 13,
   "id": "detailed-beverage",
   "metadata": {
    "pycharm": {
     "name": "#%%\n"
    }
   },
   "outputs": [
    {
     "data": {
      "text/plain": [
       "(548, 3)"
      ]
     },
     "execution_count": 13,
     "metadata": {},
     "output_type": "execute_result"
    }
   ],
   "source": [
    "negatives.shape\n"
   ]
  },
  {
   "cell_type": "code",
   "execution_count": 14,
   "id": "discrete-three",
   "metadata": {},
   "outputs": [
    {
     "data": {
      "text/html": [
       "<div>\n",
       "<style scoped>\n",
       "    .dataframe tbody tr th:only-of-type {\n",
       "        vertical-align: middle;\n",
       "    }\n",
       "\n",
       "    .dataframe tbody tr th {\n",
       "        vertical-align: top;\n",
       "    }\n",
       "\n",
       "    .dataframe thead th {\n",
       "        text-align: right;\n",
       "    }\n",
       "</style>\n",
       "<table border=\"1\" class=\"dataframe\">\n",
       "  <thead>\n",
       "    <tr style=\"text-align: right;\">\n",
       "      <th></th>\n",
       "      <th>file_x</th>\n",
       "      <th>file_y</th>\n",
       "      <th>decision</th>\n",
       "    </tr>\n",
       "  </thead>\n",
       "  <tbody>\n",
       "    <tr>\n",
       "      <th>2566</th>\n",
       "      <td>[[[217, 221, 224], [217, 221, 224], [217, 221,...</td>\n",
       "      <td>[[[182, 182, 180], [181, 181, 179], [182, 182,...</td>\n",
       "      <td>No</td>\n",
       "    </tr>\n",
       "    <tr>\n",
       "      <th>493</th>\n",
       "      <td>[[[178, 186, 189], [180, 188, 191], [180, 188,...</td>\n",
       "      <td>[[[235, 219, 186], [236, 220, 187], [236, 220,...</td>\n",
       "      <td>No</td>\n",
       "    </tr>\n",
       "    <tr>\n",
       "      <th>934</th>\n",
       "      <td>[[[254, 254, 254], [254, 254, 254], [254, 254,...</td>\n",
       "      <td>[[[121, 131, 130], [122, 132, 131], [119, 129,...</td>\n",
       "      <td>No</td>\n",
       "    </tr>\n",
       "    <tr>\n",
       "      <th>2165</th>\n",
       "      <td>[[[235, 219, 186], [236, 220, 187], [236, 220,...</td>\n",
       "      <td>[[[210, 211, 213], [210, 211, 213], [208, 209,...</td>\n",
       "      <td>No</td>\n",
       "    </tr>\n",
       "    <tr>\n",
       "      <th>1981</th>\n",
       "      <td>[[[208, 206, 191], [210, 208, 193], [215, 213,...</td>\n",
       "      <td>[[[216, 218, 217], [215, 217, 216], [215, 217,...</td>\n",
       "      <td>No</td>\n",
       "    </tr>\n",
       "  </tbody>\n",
       "</table>\n",
       "</div>"
      ],
      "text/plain": [
       "                                                 file_x  \\\n",
       "2566  [[[217, 221, 224], [217, 221, 224], [217, 221,...   \n",
       "493   [[[178, 186, 189], [180, 188, 191], [180, 188,...   \n",
       "934   [[[254, 254, 254], [254, 254, 254], [254, 254,...   \n",
       "2165  [[[235, 219, 186], [236, 220, 187], [236, 220,...   \n",
       "1981  [[[208, 206, 191], [210, 208, 193], [215, 213,...   \n",
       "\n",
       "                                                 file_y decision  \n",
       "2566  [[[182, 182, 180], [181, 181, 179], [182, 182,...       No  \n",
       "493   [[[235, 219, 186], [236, 220, 187], [236, 220,...       No  \n",
       "934   [[[121, 131, 130], [122, 132, 131], [119, 129,...       No  \n",
       "2165  [[[210, 211, 213], [210, 211, 213], [208, 209,...       No  \n",
       "1981  [[[216, 218, 217], [215, 217, 216], [215, 217,...       No  "
      ]
     },
     "execution_count": 14,
     "metadata": {},
     "output_type": "execute_result"
    }
   ],
   "source": [
    "negatives.tail()"
   ]
  },
  {
   "cell_type": "markdown",
   "id": "adapted-aspect",
   "metadata": {},
   "source": [
    "# Merge Positives and Negative Samples¶\n"
   ]
  },
  {
   "cell_type": "code",
   "execution_count": 15,
   "id": "internal-pride",
   "metadata": {
    "pycharm": {
     "name": "#%%\n"
    }
   },
   "outputs": [],
   "source": [
    "df = pd.concat([positives, negatives]).reset_index(drop = True)\n"
   ]
  },
  {
   "cell_type": "code",
   "execution_count": 16,
   "id": "arranged-pennsylvania",
   "metadata": {
    "pycharm": {
     "name": "#%%\n"
    }
   },
   "outputs": [
    {
     "data": {
      "text/plain": [
       "(1096, 3)"
      ]
     },
     "execution_count": 16,
     "metadata": {},
     "output_type": "execute_result"
    }
   ],
   "source": [
    "df.shape\n"
   ]
  },
  {
   "cell_type": "code",
   "execution_count": 17,
   "id": "drawn-closer",
   "metadata": {
    "pycharm": {
     "name": "#%%\n"
    }
   },
   "outputs": [
    {
     "data": {
      "text/plain": [
       "No     548\n",
       "Yes    548\n",
       "Name: decision, dtype: int64"
      ]
     },
     "execution_count": 17,
     "metadata": {},
     "output_type": "execute_result"
    }
   ],
   "source": [
    "df.decision.value_counts()\n"
   ]
  },
  {
   "cell_type": "code",
   "execution_count": 18,
   "id": "bearing-spotlight",
   "metadata": {
    "pycharm": {
     "name": "#%%\n"
    }
   },
   "outputs": [],
   "source": [
    "df = pd.concat([positives, negatives]).reset_index(drop = True)"
   ]
  },
  {
   "cell_type": "code",
   "execution_count": 19,
   "id": "front-intellectual",
   "metadata": {
    "pycharm": {
     "name": "#%%\n"
    }
   },
   "outputs": [
    {
     "data": {
      "text/plain": [
       "0       Yes\n",
       "1       Yes\n",
       "2       Yes\n",
       "3       Yes\n",
       "4       Yes\n",
       "       ... \n",
       "1091     No\n",
       "1092     No\n",
       "1093     No\n",
       "1094     No\n",
       "1095     No\n",
       "Name: decision, Length: 1096, dtype: object"
      ]
     },
     "execution_count": 19,
     "metadata": {},
     "output_type": "execute_result"
    }
   ],
   "source": [
    "df.decision"
   ]
  },
  {
   "cell_type": "markdown",
   "id": "rational-exhaust",
   "metadata": {},
   "source": [
    "# DeepFace"
   ]
  },
  {
   "cell_type": "code",
   "execution_count": 20,
   "id": "international-hypothetical",
   "metadata": {
    "pycharm": {
     "name": "#%%\n"
    }
   },
   "outputs": [],
   "source": [
    "from deepface import DeepFace\n",
    "from deepface.basemodels import VGGFace, OpenFace, Facenet, FbDeepFace"
   ]
  },
  {
   "cell_type": "code",
   "execution_count": 21,
   "id": "dutch-fetish",
   "metadata": {
    "pycharm": {
     "name": "#%%\n"
    }
   },
   "outputs": [
    {
     "name": "stdout",
     "output_type": "stream",
     "text": [
      "VGG-Face loaded\n",
      "Facenet loaded\n",
      "OpenFace loaded\n",
      "FbDeepFace loaded\n"
     ]
    }
   ],
   "source": [
    "pretrained_models = {}\n",
    "\n",
    "pretrained_models[\"VGG-Face\"] = VGGFace.loadModel()\n",
    "print(\"VGG-Face loaded\")\n",
    "\n",
    "pretrained_models[\"Facenet\"] = Facenet.loadModel()\n",
    "print(\"Facenet loaded\")\n",
    "\n",
    "pretrained_models[\"OpenFace\"] = OpenFace.loadModel() \n",
    "print(\"OpenFace loaded\")\n",
    "\n",
    "pretrained_models[\"DeepFace\"] = FbDeepFace.loadModel()\n",
    "print(\"FbDeepFace loaded\")"
   ]
  },
  {
   "cell_type": "code",
   "execution_count": 22,
   "id": "direct-israel",
   "metadata": {
    "pycharm": {
     "name": "#%%\n"
    }
   },
   "outputs": [],
   "source": [
    "instances = df[[\"file_x\", \"file_y\"]].values.tolist()\n"
   ]
  },
  {
   "cell_type": "code",
   "execution_count": 23,
   "id": "usual-nirvana",
   "metadata": {
    "pycharm": {
     "name": "#%%\n"
    }
   },
   "outputs": [],
   "source": [
    "models = ['VGG-Face', 'Facenet', 'OpenFace', 'DeepFace']\n",
    "metrics = ['cosine', 'euclidean', 'euclidean_l2']"
   ]
  },
  {
   "cell_type": "code",
   "execution_count": null,
   "id": "scheduled-tucson",
   "metadata": {
    "pycharm": {
     "name": "#%%\n"
    }
   },
   "outputs": [
    {
     "name": "stdout",
     "output_type": "stream",
     "text": [
      "Processing  VGG-Face   cosine\n"
     ]
    },
    {
     "name": "stderr",
     "output_type": "stream",
     "text": [
      "Verification: 100%|██████████| 1096/1096 [11:09:51<00:00, 36.67s/it]  \n"
     ]
    },
    {
     "name": "stdout",
     "output_type": "stream",
     "text": [
      "Processing  VGG-Face   euclidean\n"
     ]
    },
    {
     "name": "stderr",
     "output_type": "stream",
     "text": [
      "Verification:   2%|▏         | 19/1096 [07:39<7:40:05, 25.63s/it]"
     ]
    }
   ],
   "source": [
    "if True:\n",
    "    for model in models:\n",
    "        for metric in metrics:\n",
    "            \n",
    "            print(\"Processing \",model,\" \",metric)\n",
    "            \n",
    "            if model == 'OpenFace' and metric == 'euclidean': #this returns same with openface euclidean l2\n",
    "                continue\n",
    "            else:\n",
    "                resp_obj = DeepFace.verify(instances\n",
    "                                           , model_name = model\n",
    "                                           , model = pretrained_models[model]\n",
    "                                           , distance_metric = metric\n",
    "                                           , detector_backend = 'dlib'\n",
    "                                           , enforce_detection = False)\n",
    "\n",
    "                distances = []\n",
    "\n",
    "                for i in range(0, len(instances)):\n",
    "                    distance = round(resp_obj[\"pair_%s\" % (i+1)][\"distance\"], 4)\n",
    "                    distances.append(distance)\n",
    "\n",
    "                df['%s_%s' % (model, metric)] = distances\n",
    "    \n",
    "    df.to_csv(\"IU_student_face-recognition-pivot.csv\", index = False)\n",
    "else:\n",
    "    #Ref: https://github.com/serengil/deepface/blob/master/tests/dataset/face-recognition-pivot.csv\n",
    "    df = pd.read_csv(\"IU_student_face-recognition-pivot.csv\")"
   ]
  },
  {
   "cell_type": "code",
   "execution_count": null,
   "id": "wooden-effectiveness",
   "metadata": {
    "pycharm": {
     "name": "#%%\n"
    }
   },
   "outputs": [],
   "source": [
    "df_raw = df.copy()\n"
   ]
  },
  {
   "cell_type": "code",
   "execution_count": null,
   "id": "nutritional-blair",
   "metadata": {
    "pycharm": {
     "name": "#%%\n"
    }
   },
   "outputs": [],
   "source": [
    "df.head()\n"
   ]
  },
  {
   "cell_type": "markdown",
   "id": "noble-psychiatry",
   "metadata": {},
   "source": [
    "# Distribution"
   ]
  },
  {
   "cell_type": "code",
   "execution_count": null,
   "id": "right-testament",
   "metadata": {
    "pycharm": {
     "name": "#%%\n"
    }
   },
   "outputs": [],
   "source": [
    "df = pd.read_csv(\"face-recognition-pivot.csv\")"
   ]
  },
  {
   "cell_type": "code",
   "execution_count": null,
   "id": "finished-academy",
   "metadata": {
    "pycharm": {
     "name": "#%%\n"
    }
   },
   "outputs": [],
   "source": [
    "df_raw = df.copy()\n"
   ]
  },
  {
   "cell_type": "code",
   "execution_count": null,
   "id": "constant-hollow",
   "metadata": {
    "pycharm": {
     "name": "#%%\n"
    }
   },
   "outputs": [],
   "source": [
    "df.head()"
   ]
  },
  {
   "cell_type": "code",
   "execution_count": null,
   "id": "realistic-worst",
   "metadata": {
    "pycharm": {
     "name": "#%%\n"
    }
   },
   "outputs": [],
   "source": [
    "\n",
    "\n",
    "fig = plt.figure(figsize=(15, 15))\n",
    "\n",
    "figure_idx = 1\n",
    "for model in models:\n",
    "    for metric in metrics:\n",
    "        \n",
    "        \n",
    "        feature = '%s_%s' % (model, metric)\n",
    "\n",
    "        ax1 = fig.add_subplot(4, 3, figure_idx)\n",
    "        \n",
    "        df[df.decision == \"Yes\"][feature].plot(kind='kde', title = feature, label = 'Yes', legend = True)\n",
    "        df[df.decision == \"No\"][feature].plot(kind='kde', title = feature, label = 'No', legend = True)\n",
    "        \n",
    "        figure_idx = figure_idx + 1\n",
    "\n",
    "plt.show()"
   ]
  },
  {
   "cell_type": "markdown",
   "id": "minor-publication",
   "metadata": {},
   "source": [
    "# Pre-processing for model"
   ]
  },
  {
   "cell_type": "code",
   "execution_count": null,
   "id": "hybrid-digest",
   "metadata": {
    "pycharm": {
     "name": "#%%\n"
    }
   },
   "outputs": [],
   "source": [
    "columns = []\n",
    "for model in models:\n",
    "    for metric in metrics:\n",
    "        if model == 'OpenFace' and metric == 'euclidean':\n",
    "            continue\n",
    "        else:\n",
    "            feature = '%s_%s' % (model, metric)\n",
    "            columns.append(feature)\n",
    "\n",
    "columns.append(\"decision\")"
   ]
  },
  {
   "cell_type": "code",
   "execution_count": null,
   "id": "funny-suspension",
   "metadata": {
    "pycharm": {
     "name": "#%%\n"
    }
   },
   "outputs": [],
   "source": [
    "df = df[columns]\n"
   ]
  },
  {
   "cell_type": "code",
   "execution_count": null,
   "id": "accessory-billy",
   "metadata": {
    "pycharm": {
     "name": "#%%\n"
    }
   },
   "outputs": [],
   "source": [
    "\n",
    "df.loc[df[df.decision == 'Yes'].index, 'decision'] = 1\n",
    "df.loc[df[df.decision == 'No'].index, 'decision'] = 0"
   ]
  },
  {
   "cell_type": "code",
   "execution_count": null,
   "id": "undefined-longer",
   "metadata": {
    "pycharm": {
     "name": "#%%\n"
    }
   },
   "outputs": [],
   "source": [
    "df.head()\n"
   ]
  },
  {
   "cell_type": "markdown",
   "id": "killing-account",
   "metadata": {},
   "source": [
    "# Train test split"
   ]
  },
  {
   "cell_type": "code",
   "execution_count": null,
   "id": "technological-produce",
   "metadata": {
    "pycharm": {
     "name": "#%%\n"
    }
   },
   "outputs": [],
   "source": [
    "from sklearn.model_selection import train_test_split"
   ]
  },
  {
   "cell_type": "code",
   "execution_count": null,
   "id": "valuable-ozone",
   "metadata": {
    "pycharm": {
     "name": "#%%\n"
    }
   },
   "outputs": [],
   "source": [
    "df_train, df_test = train_test_split(df, test_size=0.50, random_state=34)\n"
   ]
  },
  {
   "cell_type": "code",
   "execution_count": null,
   "id": "recreational-computer",
   "metadata": {
    "pycharm": {
     "name": "#%%\n"
    }
   },
   "outputs": [],
   "source": [
    "target_name = \"decision\"\n",
    "\n",
    "y_train = df_train[target_name].values\n",
    "x_train = df_train.drop(columns=[target_name]).values\n",
    "\n",
    "y_test = df_test[target_name].values\n",
    "x_test = df_test.drop(columns=[target_name]).values"
   ]
  },
  {
   "cell_type": "markdown",
   "id": "exposed-adapter",
   "metadata": {},
   "source": [
    "# lightGBM\n"
   ]
  },
  {
   "cell_type": "code",
   "execution_count": null,
   "id": "infinite-johnson",
   "metadata": {
    "pycharm": {
     "name": "#%%\n"
    }
   },
   "outputs": [],
   "source": [
    "!pip install lightgbm"
   ]
  },
  {
   "cell_type": "code",
   "execution_count": null,
   "id": "frank-skirt",
   "metadata": {
    "pycharm": {
     "name": "#%%\n"
    }
   },
   "outputs": [],
   "source": [
    "import lightgbm as lgb\n"
   ]
  },
  {
   "cell_type": "code",
   "execution_count": null,
   "id": "gentle-courtesy",
   "metadata": {
    "pycharm": {
     "name": "#%%\n"
    }
   },
   "outputs": [],
   "source": [
    "features = df.drop(columns=[target_name]).columns.tolist()\n",
    "\n",
    "lgb_train = lgb.Dataset(x_train, y_train, feature_name = features)\n",
    "lgb_test = lgb.Dataset(x_test, y_test, feature_name = features)"
   ]
  },
  {
   "cell_type": "code",
   "execution_count": null,
   "id": "potential-carry",
   "metadata": {
    "pycharm": {
     "name": "#%%\n"
    }
   },
   "outputs": [],
   "source": [
    "params = {\n",
    "    'task': 'train'\n",
    "    , 'boosting_type': 'gbdt'\n",
    "    , 'objective': 'multiclass'\n",
    "    , 'num_class': 2\n",
    "    , 'metric': 'multi_logloss'\n",
    "    , 'force_col_wise': 'true'\n",
    "}"
   ]
  },
  {
   "cell_type": "code",
   "execution_count": null,
   "id": "finnish-change",
   "metadata": {
    "pycharm": {
     "name": "#%%\n"
    }
   },
   "outputs": [],
   "source": [
    "gbm = lgb.train(params, lgb_train, num_boost_round=400, early_stopping_rounds = 20 , valid_sets=[lgb_test])\n",
    "# gbm = lgb.train(params, lgb_train, num_boost_round=400, valid_sets=[lgb_test])\n"
   ]
  },
  {
   "cell_type": "code",
   "execution_count": null,
   "id": "annoying-bacteria",
   "metadata": {
    "pycharm": {
     "name": "#%%\n"
    }
   },
   "outputs": [],
   "source": [
    "gbm.save_model(\"face-recognition-ensemble-model.txt\")\n"
   ]
  },
  {
   "cell_type": "markdown",
   "id": "seventh-abortion",
   "metadata": {},
   "source": [
    "# Evaluation"
   ]
  },
  {
   "cell_type": "code",
   "execution_count": null,
   "id": "yellow-heritage",
   "metadata": {
    "pycharm": {
     "name": "#%%\n"
    }
   },
   "outputs": [],
   "source": [
    "predictions = gbm.predict(x_test)\n"
   ]
  },
  {
   "cell_type": "code",
   "execution_count": null,
   "id": "informational-nashville",
   "metadata": {
    "pycharm": {
     "name": "#%%\n"
    }
   },
   "outputs": [],
   "source": [
    "prediction_classes = []\n",
    "classified = 0\n",
    "\n",
    "index = 0\n",
    "for prediction in predictions:\n",
    "    prediction_class = np.argmax(prediction)\n",
    "    prediction_classes.append(prediction_class)\n",
    "    \n",
    "    actual = y_test[index]\n",
    "    \n",
    "    print(\"prediction is \",prediction_class,\" whereas actual is \",actual)\n",
    "    if actual == prediction_class:\n",
    "        classified = classified + 1\n",
    "    \n",
    "    index = index + 1\n",
    "\n",
    "#print(classified,\" instances are classified in \",len(predictions),\" instances\") \n",
    "print(\"accuracy: \",round(100*classified/len(predictions),2),\"%\")"
   ]
  },
  {
   "cell_type": "code",
   "execution_count": null,
   "id": "lonely-stretch",
   "metadata": {
    "pycharm": {
     "name": "#%%\n"
    }
   },
   "outputs": [],
   "source": [
    "print(classified,\" instances are classified in \",len(predictions),\" instances\") \n"
   ]
  },
  {
   "cell_type": "code",
   "execution_count": null,
   "id": "aware-ivory",
   "metadata": {
    "pycharm": {
     "name": "#%%\n"
    }
   },
   "outputs": [],
   "source": [
    "print(y_test), print(prediction_classes)"
   ]
  },
  {
   "cell_type": "code",
   "execution_count": null,
   "id": "chubby-radiation",
   "metadata": {
    "pycharm": {
     "name": "#%%\n"
    }
   },
   "outputs": [],
   "source": [
    "prediction_classes_test = np.array(prediction_classes) \n",
    "y_test_arr = y_test\n",
    "\n",
    "\n",
    "print(y_test_arr.tolist()), print(prediction_classes)"
   ]
  },
  {
   "cell_type": "code",
   "execution_count": null,
   "id": "known-collector",
   "metadata": {
    "pycharm": {
     "name": "#%%\n"
    }
   },
   "outputs": [],
   "source": [
    "cm = confusion_matrix(y_test_arr.tolist(), prediction_classes_test)"
   ]
  },
  {
   "cell_type": "code",
   "execution_count": null,
   "id": "separated-ancient",
   "metadata": {
    "pycharm": {
     "name": "#%%\n"
    }
   },
   "outputs": [],
   "source": [
    "cm"
   ]
  },
  {
   "cell_type": "code",
   "execution_count": null,
   "id": "competent-windsor",
   "metadata": {
    "pycharm": {
     "name": "#%%\n"
    }
   },
   "outputs": [],
   "source": [
    "tn, fp, fn, tp = cm.ravel()\n"
   ]
  },
  {
   "cell_type": "code",
   "execution_count": null,
   "id": "least-birmingham",
   "metadata": {
    "pycharm": {
     "name": "#%%\n"
    }
   },
   "outputs": [],
   "source": [
    "tn, fp, fn, tp\n"
   ]
  },
  {
   "cell_type": "code",
   "execution_count": null,
   "id": "decimal-termination",
   "metadata": {
    "pycharm": {
     "name": "#%%\n"
    }
   },
   "outputs": [],
   "source": [
    "recall = tp / (tp + fn)\n",
    "precision = tp / (tp + fp)\n",
    "accuracy = (tp + tn)/(tn + fp +  fn + tp)\n",
    "f1 = 2 * (precision * recall) / (precision + recall)"
   ]
  },
  {
   "cell_type": "code",
   "execution_count": null,
   "id": "checked-freeware",
   "metadata": {
    "pycharm": {
     "name": "#%%\n"
    }
   },
   "outputs": [],
   "source": [
    "print(\"Precision: \", 100*precision,\"%\")\n",
    "print(\"Recall: \", 100*recall,\"%\")\n",
    "print(\"F1 score \",100*f1, \"%\")\n",
    "print(\"Accuracy: \", 100*accuracy,\"%\")"
   ]
  },
  {
   "cell_type": "code",
   "execution_count": null,
   "id": "portable-hunger",
   "metadata": {
    "pycharm": {
     "name": "#%%\n"
    }
   },
   "outputs": [],
   "source": [
    "plt.figure(figsize=(7,7))\n",
    "ax = lgb.plot_importance(gbm, max_num_features=20)\n",
    "plt.show()"
   ]
  },
  {
   "cell_type": "code",
   "execution_count": null,
   "id": "polyphonic-survey",
   "metadata": {
    "pycharm": {
     "name": "#%%\n"
    }
   },
   "outputs": [],
   "source": [
    "y_pred_proba = predictions[::,1]\n"
   ]
  },
  {
   "cell_type": "code",
   "execution_count": null,
   "id": "strong-individual",
   "metadata": {
    "pycharm": {
     "name": "#%%\n"
    }
   },
   "outputs": [],
   "source": [
    "from sklearn import metrics\n",
    "fpr, tpr, _ = metrics.roc_curve(y_test_arr.tolist(),  y_pred_proba)\n",
    "auc = metrics.roc_auc_score(y_test_arr.tolist(), y_pred_proba)"
   ]
  },
  {
   "cell_type": "code",
   "execution_count": null,
   "id": "emerging-present",
   "metadata": {
    "pycharm": {
     "name": "#%%\n"
    }
   },
   "outputs": [],
   "source": [
    "plt.figure(figsize=(6,4))\n",
    "plt.plot(fpr,tpr,label=\"data 1, auc=\"+str(auc))"
   ]
  },
  {
   "cell_type": "code",
   "execution_count": null,
   "id": "strange-independence",
   "metadata": {
    "pycharm": {
     "name": "#%%\n"
    }
   },
   "outputs": [],
   "source": [
    "deepface_ensemble = lgb.Booster(model_file= 'face-recognition-ensemble-model.txt')\n"
   ]
  },
  {
   "cell_type": "code",
   "execution_count": null,
   "id": "sharing-presentation",
   "metadata": {
    "pycharm": {
     "name": "#%%\n"
    }
   },
   "outputs": [],
   "source": [
    "bulk_predictions = deepface_ensemble.predict(testImage)\n",
    "print(bulk_predictions)"
   ]
  },
  {
   "cell_type": "code",
   "execution_count": null,
   "id": "heard-basics",
   "metadata": {
    "pycharm": {
     "name": "#%%\n"
    }
   },
   "outputs": [],
   "source": [
    "testImage = Image.open(\"Test_img/demo1.jpg\")\n",
    "testimgNp = np.array(image, \"uint8\")"
   ]
  },
  {
   "cell_type": "code",
   "execution_count": null,
   "id": "japanese-evans",
   "metadata": {},
   "outputs": [],
   "source": [
    "demo = lgb.Booster(model_file= 'Train/face-recognition-ensemble-model.txt')\n"
   ]
  },
  {
   "cell_type": "code",
   "execution_count": null,
   "id": "useful-socket",
   "metadata": {},
   "outputs": [],
   "source": [
    "demo.predict(x_test)"
   ]
  },
  {
   "cell_type": "code",
   "execution_count": null,
   "id": "binary-dependence",
   "metadata": {},
   "outputs": [],
   "source": []
  }
 ],
 "metadata": {
  "kernelspec": {
   "display_name": "Python 3",
   "language": "python",
   "name": "python3"
  },
  "language_info": {
   "codemirror_mode": {
    "name": "ipython",
    "version": 3
   },
   "file_extension": ".py",
   "mimetype": "text/x-python",
   "name": "python",
   "nbconvert_exporter": "python",
   "pygments_lexer": "ipython3",
   "version": "3.8.8"
  }
 },
 "nbformat": 4,
 "nbformat_minor": 5
}
