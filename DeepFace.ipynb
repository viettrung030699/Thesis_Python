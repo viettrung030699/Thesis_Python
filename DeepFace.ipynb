{
 "cells": [
  {
   "cell_type": "code",
   "execution_count": 1,
   "id": "imposed-press",
   "metadata": {
    "pycharm": {
     "name": "#%%\n"
    }
   },
   "outputs": [
    {
     "ename": "SyntaxError",
     "evalue": "invalid syntax (<ipython-input-1-b943716737cd>, line 1)",
     "output_type": "error",
     "traceback": [
      "\u001B[1;36m  File \u001B[1;32m\"<ipython-input-1-b943716737cd>\"\u001B[1;36m, line \u001B[1;32m1\u001B[0m\n\u001B[1;33m    pip install deepface\u001B[0m\n\u001B[1;37m        ^\u001B[0m\n\u001B[1;31mSyntaxError\u001B[0m\u001B[1;31m:\u001B[0m invalid syntax\n"
     ]
    }
   ],
   "source": [
    "pip install deepface"
   ]
  },
  {
   "cell_type": "code",
   "execution_count": null,
   "id": "federal-surrey",
   "metadata": {
    "pycharm": {
     "name": "#%%\n"
    }
   },
   "outputs": [],
   "source": [
    "import pandas as pd\n",
    "import numpy as np\n",
    "import itertools\n",
    "from sklearn.metrics import confusion_matrix,accuracy_score, roc_curve, auc\n",
    "import matplotlib.pyplot as plt\n",
    "from tqdm import tqdm\n",
    "tqdm.pandas()"
   ]
  },
  {
   "cell_type": "code",
   "execution_count": 2,
   "id": "responsible-nowhere",
   "metadata": {
    "pycharm": {
     "name": "#%%\n"
    }
   },
   "outputs": [],
   "source": [
    "idendities = {\n",
    "  \"Ariel_Sharon\": [],\n",
    "  \"Colin_Powell\": [],\n",
    "  \"Donald_Rumsfeld\": [],\n",
    "  \"George_W_Bush\": [],\n",
    "  \"Gerhard_Schroeder\": [],\n",
    "  \"Hugo_Chavez\": [],\n",
    "  \"Jean_Chretien\": [],\n",
    "  \"John_Ashcroft\": [],\n",
    "  \"Junichiro_Koizumi\": [],\n",
    "  \"Tony_Blair\": []\n",
    "    \n",
    "}"
   ]
  },
  {
   "cell_type": "code",
   "execution_count": 3,
   "id": "collaborative-birthday",
   "metadata": {
    "pycharm": {
     "name": "#%%\n"
    }
   },
   "outputs": [
    {
     "ename": "NameError",
     "evalue": "name 'np' is not defined",
     "output_type": "error",
     "traceback": [
      "\u001B[1;31m---------------------------------------------------------------------------\u001B[0m",
      "\u001B[1;31mNameError\u001B[0m                                 Traceback (most recent call last)",
      "\u001B[1;32m<ipython-input-3-75293a904fa2>\u001B[0m in \u001B[0;36m<module>\u001B[1;34m\u001B[0m\n\u001B[0;32m      7\u001B[0m             \u001B[0mpath_string\u001B[0m \u001B[1;33m=\u001B[0m \u001B[0mos\u001B[0m\u001B[1;33m.\u001B[0m\u001B[0mpath\u001B[0m\u001B[1;33m.\u001B[0m\u001B[0mjoin\u001B[0m\u001B[1;33m(\u001B[0m\u001B[1;34m\"Dataset/DeepFace/{}\"\u001B[0m\u001B[1;33m.\u001B[0m\u001B[0mformat\u001B[0m\u001B[1;33m(\u001B[0m\u001B[0mkey\u001B[0m\u001B[1;33m)\u001B[0m\u001B[1;33m,\u001B[0m \u001B[0mimage\u001B[0m\u001B[1;33m)\u001B[0m\u001B[1;33m\u001B[0m\u001B[1;33m\u001B[0m\u001B[0m\n\u001B[0;32m      8\u001B[0m             \u001B[0mimage\u001B[0m \u001B[1;33m=\u001B[0m \u001B[0mImage\u001B[0m\u001B[1;33m.\u001B[0m\u001B[0mopen\u001B[0m\u001B[1;33m(\u001B[0m\u001B[0mpath_string\u001B[0m\u001B[1;33m)\u001B[0m\u001B[1;33m\u001B[0m\u001B[1;33m\u001B[0m\u001B[0m\n\u001B[1;32m----> 9\u001B[1;33m             \u001B[0mimgNp\u001B[0m \u001B[1;33m=\u001B[0m \u001B[0mnp\u001B[0m\u001B[1;33m.\u001B[0m\u001B[0marray\u001B[0m\u001B[1;33m(\u001B[0m\u001B[0mimage\u001B[0m\u001B[1;33m,\u001B[0m \u001B[1;34m\"uint8\"\u001B[0m\u001B[1;33m)\u001B[0m\u001B[1;33m\u001B[0m\u001B[1;33m\u001B[0m\u001B[0m\n\u001B[0m\u001B[0;32m     10\u001B[0m             \u001B[0mvalues\u001B[0m\u001B[1;33m.\u001B[0m\u001B[0mappend\u001B[0m\u001B[1;33m(\u001B[0m\u001B[0mpath_string\u001B[0m\u001B[1;33m)\u001B[0m\u001B[1;33m\u001B[0m\u001B[1;33m\u001B[0m\u001B[0m\n\u001B[0;32m     11\u001B[0m \u001B[1;33m\u001B[0m\u001B[0m\n",
      "\u001B[1;31mNameError\u001B[0m: name 'np' is not defined"
     ]
    }
   ],
   "source": [
    "import os\n",
    "from PIL import Image\n",
    "\n",
    "for key, values in idendities.items():\n",
    "    # Get the path to all the images\n",
    "        for image in os.listdir(\"Dataset/DeepFace/{}\".format(key)):\n",
    "            path_string = os.path.join(\"Dataset/DeepFace/{}\".format(key), image)\n",
    "            image = Image.open(path_string)\n",
    "            imgNp = np.array(image, \"uint8\")\n",
    "            values.append(path_string)\n"
   ]
  },
  {
   "cell_type": "code",
   "execution_count": null,
   "id": "physical-columbia",
   "metadata": {
    "pycharm": {
     "name": "#%%\n"
    }
   },
   "outputs": [],
   "source": [
    "idendities[\"George_W_Bush\"]"
   ]
  },
  {
   "cell_type": "markdown",
   "id": "treated-webmaster",
   "metadata": {},
   "source": [
    "<h1>Positive samples<h1>\n",
    "Find different photos of same people\n"
   ]
  },
  {
   "cell_type": "code",
   "execution_count": null,
   "id": "cordless-electricity",
   "metadata": {
    "pycharm": {
     "name": "#%%\n"
    }
   },
   "outputs": [],
   "source": [
    "positives = []\n",
    "\n",
    "for key, values in idendities.items():\n",
    "    \n",
    "    #print(key)\n",
    "    for i in range(0, len(values)-1):\n",
    "        for j in range(i+1, len(values)):\n",
    "            #print(values[i], \" and \", values[j])\n",
    "            positive = []\n",
    "            positive.append(values[i])\n",
    "            positive.append(values[j])\n",
    "            positives.append(positive)"
   ]
  },
  {
   "cell_type": "code",
   "execution_count": null,
   "id": "electoral-affect",
   "metadata": {
    "pycharm": {
     "name": "#%%\n"
    }
   },
   "outputs": [],
   "source": [
    "positives = pd.DataFrame(positives, columns = [\"file_x\", \"file_y\"])\n",
    "positives[\"decision\"] = \"Yes\""
   ]
  },
  {
   "cell_type": "code",
   "execution_count": null,
   "id": "adopted-criterion",
   "metadata": {
    "pycharm": {
     "name": "#%%\n"
    }
   },
   "outputs": [],
   "source": [
    "positives.shape\n"
   ]
  },
  {
   "cell_type": "markdown",
   "id": "approximate-coral",
   "metadata": {},
   "source": [
    "# Negative samples\n",
    "Compare photos of different people"
   ]
  },
  {
   "cell_type": "code",
   "execution_count": null,
   "id": "local-engagement",
   "metadata": {
    "pycharm": {
     "name": "#%%\n"
    }
   },
   "outputs": [],
   "source": [
    "samples_list = list(idendities.values())\n"
   ]
  },
  {
   "cell_type": "code",
   "execution_count": null,
   "id": "international-bracelet",
   "metadata": {
    "pycharm": {
     "name": "#%%\n"
    }
   },
   "outputs": [],
   "source": [
    "negatives = []\n",
    "\n",
    "for i in range(0, len(idendities) - 1):\n",
    "    for j in range(i+1, len(idendities)):\n",
    "        #print(samples_list[i], \" vs \",samples_list[j]) \n",
    "        cross_product = itertools.product(samples_list[i], samples_list[j])\n",
    "        cross_product = list(cross_product)\n",
    "        #print(cross_product)\n",
    "        \n",
    "        for cross_sample in cross_product:\n",
    "            #print(cross_sample[0], \" vs \", cross_sample[1])\n",
    "            negative = []\n",
    "            negative.append(cross_sample[0])\n",
    "            negative.append(cross_sample[1])\n",
    "            negatives.append(negative)"
   ]
  },
  {
   "cell_type": "code",
   "execution_count": null,
   "id": "collaborative-fitting",
   "metadata": {
    "pycharm": {
     "name": "#%%\n"
    }
   },
   "outputs": [],
   "source": [
    "negatives = pd.DataFrame(negatives, columns = [\"file_x\", \"file_y\"])\n",
    "negatives[\"decision\"] = \"No\""
   ]
  },
  {
   "cell_type": "code",
   "execution_count": null,
   "id": "average-allowance",
   "metadata": {
    "pycharm": {
     "name": "#%%\n"
    }
   },
   "outputs": [],
   "source": [
    "negatives = negatives.sample(positives.shape[0])\n"
   ]
  },
  {
   "cell_type": "code",
   "execution_count": null,
   "id": "detailed-beverage",
   "metadata": {
    "pycharm": {
     "name": "#%%\n"
    }
   },
   "outputs": [],
   "source": [
    "negatives.shape\n"
   ]
  },
  {
   "cell_type": "markdown",
   "id": "adapted-aspect",
   "metadata": {},
   "source": [
    "# Merge Positives and Negative Samples¶\n"
   ]
  },
  {
   "cell_type": "code",
   "execution_count": null,
   "id": "internal-pride",
   "metadata": {
    "pycharm": {
     "name": "#%%\n"
    }
   },
   "outputs": [],
   "source": [
    "df = pd.concat([positives, negatives]).reset_index(drop = True)\n"
   ]
  },
  {
   "cell_type": "code",
   "execution_count": null,
   "id": "arranged-pennsylvania",
   "metadata": {
    "pycharm": {
     "name": "#%%\n"
    }
   },
   "outputs": [],
   "source": [
    "df.shape\n"
   ]
  },
  {
   "cell_type": "code",
   "execution_count": null,
   "id": "drawn-closer",
   "metadata": {
    "pycharm": {
     "name": "#%%\n"
    }
   },
   "outputs": [],
   "source": [
    "df.decision.value_counts()\n"
   ]
  },
  {
   "cell_type": "code",
   "execution_count": null,
   "id": "bearing-spotlight",
   "metadata": {
    "pycharm": {
     "name": "#%%\n"
    }
   },
   "outputs": [],
   "source": [
    "df = pd.concat([positives, negatives]).reset_index(drop = True)"
   ]
  },
  {
   "cell_type": "code",
   "execution_count": null,
   "id": "front-intellectual",
   "metadata": {
    "pycharm": {
     "name": "#%%\n"
    }
   },
   "outputs": [],
   "source": [
    "df.decision"
   ]
  },
  {
   "cell_type": "markdown",
   "id": "rational-exhaust",
   "metadata": {},
   "source": [
    "# DeepFace"
   ]
  },
  {
   "cell_type": "code",
   "execution_count": null,
   "id": "international-hypothetical",
   "metadata": {
    "pycharm": {
     "name": "#%%\n"
    }
   },
   "outputs": [],
   "source": [
    "from deepface import DeepFace\n",
    "from deepface.basemodels import VGGFace, OpenFace, Facenet, FbDeepFace"
   ]
  },
  {
   "cell_type": "code",
   "execution_count": null,
   "id": "dutch-fetish",
   "metadata": {
    "pycharm": {
     "name": "#%%\n"
    }
   },
   "outputs": [],
   "source": [
    "pretrained_models = {}\n",
    "\n",
    "pretrained_models[\"VGG-Face\"] = VGGFace.loadModel()\n",
    "print(\"VGG-Face loaded\")\n",
    "\n",
    "pretrained_models[\"Facenet\"] = Facenet.loadModel()\n",
    "print(\"Facenet loaded\")\n",
    "\n",
    "# pretrained_models[\"OpenFace\"] = OpenFace.loadModel() \n",
    "# print(\"OpenFace loaded\")\n",
    "\n",
    "pretrained_models[\"DeepFace\"] = FbDeepFace.loadModel()\n",
    "print(\"FbDeepFace loaded\")"
   ]
  },
  {
   "cell_type": "code",
   "execution_count": null,
   "id": "direct-israel",
   "metadata": {
    "pycharm": {
     "name": "#%%\n"
    }
   },
   "outputs": [],
   "source": [
    "instances = df[[\"file_x\", \"file_y\"]].values.tolist()\n"
   ]
  },
  {
   "cell_type": "code",
   "execution_count": null,
   "id": "usual-nirvana",
   "metadata": {
    "pycharm": {
     "name": "#%%\n"
    }
   },
   "outputs": [],
   "source": [
    "models = ['VGG-Face', 'Facenet', 'DeepFace']\n",
    "metrics = ['cosine', 'euclidean', 'euclidean_l2']"
   ]
  },
  {
   "cell_type": "code",
   "execution_count": null,
   "id": "scheduled-tucson",
   "metadata": {
    "pycharm": {
     "name": "#%%\n"
    }
   },
   "outputs": [],
   "source": [
    "if True:\n",
    "    for model in models:\n",
    "        for metric in metrics:\n",
    "            \n",
    "            print(\"Processing \",model,\" \",metric)\n",
    "            \n",
    "            if model == 'OpenFace' and metric == 'euclidean': #this returns same with openface euclidean l2\n",
    "                continue\n",
    "            else:\n",
    "                resp_obj = DeepFace.verify(instances\n",
    "                                           , model_name = model\n",
    "                                           , model = pretrained_models[model]\n",
    "                                           , distance_metric = metric\n",
    "                                           , detector_backend = 'mtcnn'\n",
    "                                           , enforce_detection = False)\n",
    "\n",
    "                distances = []\n",
    "\n",
    "                for i in range(0, len(instances)):\n",
    "                    distance = round(resp_obj[\"pair_%s\" % (i+1)][\"distance\"], 4)\n",
    "                    distances.append(distance)\n",
    "\n",
    "                df['%s_%s' % (model, metric)] = distances\n",
    "    \n",
    "    df.to_csv(\"face-recognition-pivot.csv\", index = False)\n",
    "else:\n",
    "    #Ref: https://github.com/serengil/deepface/blob/master/tests/dataset/face-recognition-pivot.csv\n",
    "    df = pd.read_csv(\"face-recognition-pivot.csv\")"
   ]
  },
  {
   "cell_type": "code",
   "execution_count": null,
   "id": "wooden-effectiveness",
   "metadata": {
    "pycharm": {
     "name": "#%%\n"
    }
   },
   "outputs": [],
   "source": [
    "df_raw = df.copy()\n"
   ]
  },
  {
   "cell_type": "code",
   "execution_count": null,
   "id": "nutritional-blair",
   "metadata": {
    "pycharm": {
     "name": "#%%\n"
    }
   },
   "outputs": [],
   "source": [
    "df.head()\n"
   ]
  },
  {
   "cell_type": "markdown",
   "id": "noble-psychiatry",
   "metadata": {},
   "source": [
    "# Distribution"
   ]
  },
  {
   "cell_type": "code",
   "execution_count": null,
   "id": "right-testament",
   "metadata": {
    "pycharm": {
     "name": "#%%\n"
    }
   },
   "outputs": [],
   "source": [
    "df = pd.read_csv(\"face-recognition-pivot.csv\")"
   ]
  },
  {
   "cell_type": "code",
   "execution_count": null,
   "id": "finished-academy",
   "metadata": {
    "pycharm": {
     "name": "#%%\n"
    }
   },
   "outputs": [],
   "source": [
    "df_raw = df.copy()\n"
   ]
  },
  {
   "cell_type": "code",
   "execution_count": null,
   "id": "constant-hollow",
   "metadata": {
    "pycharm": {
     "name": "#%%\n"
    }
   },
   "outputs": [],
   "source": [
    "df.head()"
   ]
  },
  {
   "cell_type": "code",
   "execution_count": null,
   "id": "realistic-worst",
   "metadata": {
    "pycharm": {
     "name": "#%%\n"
    }
   },
   "outputs": [],
   "source": [
    "\n",
    "\n",
    "fig = plt.figure(figsize=(15, 15))\n",
    "\n",
    "figure_idx = 1\n",
    "for model in models:\n",
    "    for metric in metrics:\n",
    "        \n",
    "        \n",
    "        feature = '%s_%s' % (model, metric)\n",
    "\n",
    "        ax1 = fig.add_subplot(4, 3, figure_idx)\n",
    "        \n",
    "        df[df.decision == \"Yes\"][feature].plot(kind='kde', title = feature, label = 'Yes', legend = True)\n",
    "        df[df.decision == \"No\"][feature].plot(kind='kde', title = feature, label = 'No', legend = True)\n",
    "        \n",
    "        figure_idx = figure_idx + 1\n",
    "\n",
    "plt.show()"
   ]
  },
  {
   "cell_type": "markdown",
   "id": "minor-publication",
   "metadata": {},
   "source": [
    "# Pre-processing for model"
   ]
  },
  {
   "cell_type": "code",
   "execution_count": null,
   "id": "hybrid-digest",
   "metadata": {
    "pycharm": {
     "name": "#%%\n"
    }
   },
   "outputs": [],
   "source": [
    "columns = []\n",
    "for model in models:\n",
    "    for metric in metrics:\n",
    "        if model == 'OpenFace' and metric == 'euclidean':\n",
    "            continue\n",
    "        else:\n",
    "            feature = '%s_%s' % (model, metric)\n",
    "            columns.append(feature)\n",
    "\n",
    "columns.append(\"decision\")"
   ]
  },
  {
   "cell_type": "code",
   "execution_count": null,
   "id": "funny-suspension",
   "metadata": {
    "pycharm": {
     "name": "#%%\n"
    }
   },
   "outputs": [],
   "source": [
    "df = df[columns]\n"
   ]
  },
  {
   "cell_type": "code",
   "execution_count": null,
   "id": "accessory-billy",
   "metadata": {
    "pycharm": {
     "name": "#%%\n"
    }
   },
   "outputs": [],
   "source": [
    "\n",
    "df.loc[df[df.decision == 'Yes'].index, 'decision'] = 1\n",
    "df.loc[df[df.decision == 'No'].index, 'decision'] = 0"
   ]
  },
  {
   "cell_type": "code",
   "execution_count": null,
   "id": "undefined-longer",
   "metadata": {
    "pycharm": {
     "name": "#%%\n"
    }
   },
   "outputs": [],
   "source": [
    "df.head()\n"
   ]
  },
  {
   "cell_type": "markdown",
   "id": "killing-account",
   "metadata": {},
   "source": [
    "# Train test split"
   ]
  },
  {
   "cell_type": "code",
   "execution_count": null,
   "id": "technological-produce",
   "metadata": {
    "pycharm": {
     "name": "#%%\n"
    }
   },
   "outputs": [],
   "source": [
    "from sklearn.model_selection import train_test_split"
   ]
  },
  {
   "cell_type": "code",
   "execution_count": null,
   "id": "valuable-ozone",
   "metadata": {
    "pycharm": {
     "name": "#%%\n"
    }
   },
   "outputs": [],
   "source": [
    "df_train, df_test = train_test_split(df, test_size=0.3, random_state=34)\n"
   ]
  },
  {
   "cell_type": "code",
   "execution_count": null,
   "id": "recreational-computer",
   "metadata": {
    "pycharm": {
     "name": "#%%\n"
    }
   },
   "outputs": [],
   "source": [
    "target_name = \"decision\"\n",
    "\n",
    "y_train = df_train[target_name].values\n",
    "x_train = df_train.drop(columns=[target_name]).values\n",
    "\n",
    "y_test = df_test[target_name].values\n",
    "x_test = df_test.drop(columns=[target_name]).values"
   ]
  },
  {
   "cell_type": "markdown",
   "id": "exposed-adapter",
   "metadata": {},
   "source": [
    "# lightGBM\n"
   ]
  },
  {
   "cell_type": "code",
   "execution_count": null,
   "id": "infinite-johnson",
   "metadata": {
    "pycharm": {
     "name": "#%%\n"
    }
   },
   "outputs": [],
   "source": [
    "!pip install lightgbm"
   ]
  },
  {
   "cell_type": "code",
   "execution_count": null,
   "id": "frank-skirt",
   "metadata": {
    "pycharm": {
     "name": "#%%\n"
    }
   },
   "outputs": [],
   "source": [
    "import lightgbm as lgb\n"
   ]
  },
  {
   "cell_type": "code",
   "execution_count": null,
   "id": "gentle-courtesy",
   "metadata": {
    "pycharm": {
     "name": "#%%\n"
    }
   },
   "outputs": [],
   "source": [
    "features = df.drop(columns=[target_name]).columns.tolist()\n",
    "\n",
    "lgb_train = lgb.Dataset(x_train, y_train, feature_name = features)\n",
    "lgb_test = lgb.Dataset(x_test, y_test, feature_name = features)"
   ]
  },
  {
   "cell_type": "code",
   "execution_count": null,
   "id": "potential-carry",
   "metadata": {
    "pycharm": {
     "name": "#%%\n"
    }
   },
   "outputs": [],
   "source": [
    "params = {\n",
    "    'task': 'train'\n",
    "    , 'boosting_type': 'gbdt'\n",
    "    , 'objective': 'multiclass'\n",
    "    , 'num_class': 2\n",
    "    , 'metric': 'multi_logloss'\n",
    "    , 'force_col_wise': 'true'\n",
    "}"
   ]
  },
  {
   "cell_type": "code",
   "execution_count": null,
   "id": "finnish-change",
   "metadata": {
    "pycharm": {
     "name": "#%%\n"
    }
   },
   "outputs": [],
   "source": [
    "gbm = lgb.train(params, lgb_train, num_boost_round=400, early_stopping_rounds = 20 , valid_sets=[lgb_test])\n",
    "# gbm = lgb.train(params, lgb_train, num_boost_round=400, valid_sets=[lgb_test])\n"
   ]
  },
  {
   "cell_type": "code",
   "execution_count": null,
   "id": "annoying-bacteria",
   "metadata": {
    "pycharm": {
     "name": "#%%\n"
    }
   },
   "outputs": [],
   "source": [
    "gbm.save_model(\"face-recognition-ensemble-model_test30.txt\")\n"
   ]
  },
  {
   "cell_type": "markdown",
   "id": "seventh-abortion",
   "metadata": {},
   "source": [
    "# Evaluation"
   ]
  },
  {
   "cell_type": "code",
   "execution_count": null,
   "id": "yellow-heritage",
   "metadata": {
    "pycharm": {
     "name": "#%%\n"
    }
   },
   "outputs": [],
   "source": [
    "predictions = gbm.predict(x_test)\n"
   ]
  },
  {
   "cell_type": "code",
   "execution_count": null,
   "id": "informational-nashville",
   "metadata": {
    "pycharm": {
     "name": "#%%\n"
    }
   },
   "outputs": [],
   "source": [
    "prediction_classes = []\n",
    "classified = 0\n",
    "\n",
    "index = 0\n",
    "for prediction in predictions:\n",
    "    prediction_class = np.argmax(prediction)\n",
    "    prediction_classes.append(prediction_class)\n",
    "    \n",
    "    actual = y_test[index]\n",
    "    \n",
    "    print(\"prediction is \",prediction_class,\" whereas actual is \",actual)\n",
    "    if actual == prediction_class:\n",
    "        classified = classified + 1\n",
    "    \n",
    "    index = index + 1\n",
    "\n",
    "#print(classified,\" instances are classified in \",len(predictions),\" instances\") \n",
    "print(\"accuracy: \",round(100*classified/len(predictions),2),\"%\")"
   ]
  },
  {
   "cell_type": "code",
   "execution_count": null,
   "id": "lonely-stretch",
   "metadata": {
    "pycharm": {
     "name": "#%%\n"
    }
   },
   "outputs": [],
   "source": [
    "print(classified,\" instances are classified in \",len(predictions),\" instances\") \n"
   ]
  },
  {
   "cell_type": "code",
   "execution_count": null,
   "id": "aware-ivory",
   "metadata": {
    "pycharm": {
     "name": "#%%\n"
    }
   },
   "outputs": [],
   "source": [
    "print(y_test), print(prediction_classes)"
   ]
  },
  {
   "cell_type": "code",
   "execution_count": null,
   "id": "chubby-radiation",
   "metadata": {
    "pycharm": {
     "name": "#%%\n"
    }
   },
   "outputs": [],
   "source": [
    "prediction_classes_test = np.array(prediction_classes) \n",
    "y_test_arr = y_test\n",
    "\n",
    "\n",
    "print(y_test_arr.tolist()), print(prediction_classes)"
   ]
  },
  {
   "cell_type": "code",
   "execution_count": null,
   "id": "known-collector",
   "metadata": {
    "pycharm": {
     "name": "#%%\n"
    }
   },
   "outputs": [],
   "source": [
    "cm = confusion_matrix(y_test_arr.tolist(), prediction_classes_test)"
   ]
  },
  {
   "cell_type": "code",
   "execution_count": null,
   "id": "separated-ancient",
   "metadata": {
    "pycharm": {
     "name": "#%%\n"
    }
   },
   "outputs": [],
   "source": [
    "cm"
   ]
  },
  {
   "cell_type": "code",
   "execution_count": null,
   "id": "competent-windsor",
   "metadata": {
    "pycharm": {
     "name": "#%%\n"
    }
   },
   "outputs": [],
   "source": [
    "tn, fp, fn, tp = cm.ravel()\n"
   ]
  },
  {
   "cell_type": "code",
   "execution_count": null,
   "id": "least-birmingham",
   "metadata": {
    "pycharm": {
     "name": "#%%\n"
    }
   },
   "outputs": [],
   "source": [
    "tn, fp, fn, tp\n"
   ]
  },
  {
   "cell_type": "code",
   "execution_count": null,
   "id": "decimal-termination",
   "metadata": {
    "pycharm": {
     "name": "#%%\n"
    }
   },
   "outputs": [],
   "source": [
    "recall = tp / (tp + fn)\n",
    "precision = tp / (tp + fp)\n",
    "accuracy = (tp + tn)/(tn + fp +  fn + tp)\n",
    "f1 = 2 * (precision * recall) / (precision + recall)"
   ]
  },
  {
   "cell_type": "code",
   "execution_count": null,
   "id": "checked-freeware",
   "metadata": {
    "pycharm": {
     "name": "#%%\n"
    }
   },
   "outputs": [],
   "source": [
    "print(\"Precision: \", 100*precision,\"%\")\n",
    "print(\"Recall: \", 100*recall,\"%\")\n",
    "print(\"F1 score \",100*f1, \"%\")\n",
    "print(\"Accuracy: \", 100*accuracy,\"%\")"
   ]
  },
  {
   "cell_type": "code",
   "execution_count": null,
   "id": "portable-hunger",
   "metadata": {
    "pycharm": {
     "name": "#%%\n"
    }
   },
   "outputs": [],
   "source": [
    "plt.figure(figsize=(7,7))\n",
    "ax = lgb.plot_importance(gbm, max_num_features=20)\n",
    "plt.show()"
   ]
  },
  {
   "cell_type": "code",
   "execution_count": null,
   "id": "polyphonic-survey",
   "metadata": {
    "pycharm": {
     "name": "#%%\n"
    }
   },
   "outputs": [],
   "source": [
    "y_pred_proba = predictions[::,1]\n"
   ]
  },
  {
   "cell_type": "code",
   "execution_count": null,
   "id": "strong-individual",
   "metadata": {
    "pycharm": {
     "name": "#%%\n"
    }
   },
   "outputs": [],
   "source": [
    "from sklearn import metrics\n",
    "fpr, tpr, _ = metrics.roc_curve(y_test_arr.tolist(),  y_pred_proba)\n",
    "auc = metrics.roc_auc_score(y_test_arr.tolist(), y_pred_proba)"
   ]
  },
  {
   "cell_type": "code",
   "execution_count": null,
   "id": "emerging-present",
   "metadata": {
    "pycharm": {
     "name": "#%%\n"
    }
   },
   "outputs": [],
   "source": [
    "plt.figure(figsize=(6,4))\n",
    "plt.plot(fpr,tpr,label=\"data 1, auc=\"+str(auc))"
   ]
  },
  {
   "cell_type": "code",
   "execution_count": null,
   "id": "strange-independence",
   "metadata": {
    "pycharm": {
     "name": "#%%\n"
    }
   },
   "outputs": [],
   "source": [
    "deepface_ensemble = lgb.Booster(model_file= 'face-recognition-ensemble-model_test30.txt')\n"
   ]
  },
  {
   "cell_type": "code",
   "execution_count": null,
   "id": "heard-basics",
   "metadata": {
    "pycharm": {
     "name": "#%%\n"
    }
   },
   "outputs": [],
   "source": [
    "from PIL import Image\n",
    "testImage = Image.open(\"Test_img/demo1.jpg\")\n",
    "testimgNp = np.array(testImage, \"uint8\")"
   ]
  },
  {
   "cell_type": "code",
   "execution_count": null,
   "id": "sharing-presentation",
   "metadata": {
    "pycharm": {
     "name": "#%%\n"
    }
   },
   "outputs": [],
   "source": [
    "bulk_predictions = deepface_ensemble.predict(\"Test_img/demo1.jpg\")\n",
    "print(bulk_predictions)"
   ]
  },
  {
   "cell_type": "code",
   "execution_count": null,
   "id": "japanese-evans",
   "metadata": {},
   "outputs": [],
   "source": [
    "demo = lgb.Booster(model_file= 'Train/face-recognition-ensemble-model.txt')\n"
   ]
  },
  {
   "cell_type": "code",
   "execution_count": null,
   "id": "useful-socket",
   "metadata": {},
   "outputs": [],
   "source": [
    "demo.predict(x_test)"
   ]
  },
  {
   "cell_type": "code",
   "execution_count": null,
   "outputs": [],
   "source": [
    "x_test"
   ],
   "metadata": {
    "collapsed": false,
    "pycharm": {
     "name": "#%%\n"
    }
   }
  },
  {
   "cell_type": "code",
   "execution_count": null,
   "id": "binary-dependence",
   "metadata": {},
   "outputs": [],
   "source": []
  },
  {
   "cell_type": "code",
   "execution_count": null,
   "id": "recorded-fourth",
   "metadata": {},
   "outputs": [],
   "source": []
  }
 ],
 "metadata": {
  "kernelspec": {
   "display_name": "Python 3",
   "language": "python",
   "name": "python3"
  },
  "language_info": {
   "codemirror_mode": {
    "name": "ipython",
    "version": 3
   },
   "file_extension": ".py",
   "mimetype": "text/x-python",
   "name": "python",
   "nbconvert_exporter": "python",
   "pygments_lexer": "ipython3",
   "version": "3.8.8"
  }
 },
 "nbformat": 4,
 "nbformat_minor": 5
}